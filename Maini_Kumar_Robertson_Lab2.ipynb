{
 "cells": [
  {
   "cell_type": "code",
   "execution_count": 1,
   "metadata": {},
   "outputs": [],
   "source": [
    "# Data\n",
    "A = read.csv(\"anes_pilot_2018.csv\")"
   ]
  },
  {
   "cell_type": "markdown",
   "metadata": {},
   "source": [
    "## Question 1: Do US voters have more respect for the police or for journalists?"
   ]
  },
  {
   "cell_type": "markdown",
   "metadata": {},
   "source": [
    "## Topic\n",
    "Survey used `feeling thermometer` wigit to understand how the respondents **feel** about some persons or groups (which include both journalists and police). Respondents need to answer on an ordinal scale with a number between 0 and 100. This setting, although, gives a good idea about how favorable or unfavorable the respondant feels about blacks and police, it is only a rough proxy for **respect**. \n",
    "\n",
    "### Operational Definition\n",
    "We are going to use the respondent's feeling about the police and journalists (from columns `ftpolice` and `ftjournal`) as a proxy for the respect they have for these groups. Numbers close to 100 mean high respect and numbers close to 0 mean low respect.\n",
    "\n",
    "## Exproratory Data Analysis"
   ]
  },
  {
   "cell_type": "code",
   "execution_count": 2,
   "metadata": {},
   "outputs": [
    {
     "data": {
      "text/plain": [
       "   ftjournal         ftpolice     \n",
       " Min.   : -7.00   Min.   :  0.00  \n",
       " 1st Qu.: 21.00   1st Qu.: 47.00  \n",
       " Median : 52.00   Median : 70.00  \n",
       " Mean   : 52.26   Mean   : 64.68  \n",
       " 3rd Qu.: 82.00   3rd Qu.: 90.00  \n",
       " Max.   :100.00   Max.   :100.00  "
      ]
     },
     "metadata": {},
     "output_type": "display_data"
    },
    {
     "data": {
      "text/html": [
       "<span style=white-space:pre-wrap>'Number of rows in the original data:  2500'</span>"
      ],
      "text/latex": [
       "'Number of rows in the original data:  2500'"
      ],
      "text/markdown": [
       "<span style=white-space:pre-wrap>'Number of rows in the original data:  2500'</span>"
      ],
      "text/plain": [
       "[1] \"Number of rows in the original data:  2500\""
      ]
     },
     "metadata": {},
     "output_type": "display_data"
    },
    {
     "name": "stdout",
     "output_type": "stream",
     "text": [
      "[1] \"Non-responding entries\"\n"
     ]
    },
    {
     "data": {
      "text/html": [
       "<table>\n",
       "<thead><tr><th></th><th scope=col>ftjournal</th><th scope=col>ftpolice</th></tr></thead>\n",
       "<tbody>\n",
       "\t<tr><th scope=row>51</th><td>-7</td><td>84</td></tr>\n",
       "\t<tr><th scope=row>597</th><td>-7</td><td>91</td></tr>\n",
       "</tbody>\n",
       "</table>\n"
      ],
      "text/latex": [
       "\\begin{tabular}{r|ll}\n",
       "  & ftjournal & ftpolice\\\\\n",
       "\\hline\n",
       "\t51 & -7 & 84\\\\\n",
       "\t597 & -7 & 91\\\\\n",
       "\\end{tabular}\n"
      ],
      "text/markdown": [
       "\n",
       "| <!--/--> | ftjournal | ftpolice |\n",
       "|---|---|---|\n",
       "| 51 | -7 | 84 |\n",
       "| 597 | -7 | 91 |\n",
       "\n"
      ],
      "text/plain": [
       "    ftjournal ftpolice\n",
       "51  -7        84      \n",
       "597 -7        91      "
      ]
     },
     "metadata": {},
     "output_type": "display_data"
    }
   ],
   "source": [
    "# Basic variable summary\n",
    "sub = A[c('ftjournal', 'ftpolice')]\n",
    "summary(sub)\n",
    "paste(\"Number of rows in the original data: \", nrow(sub))\n",
    "\n",
    "# Visualizing data ros where no responses were provided\n",
    "print(\"Non-responding entries\")\n",
    "(sub[sub['ftjournal'] < 0,])"
   ]
  },
  {
   "cell_type": "code",
   "execution_count": 3,
   "metadata": {},
   "outputs": [
    {
     "data": {
      "text/plain": [
       "   ftjournal         ftpolice     \n",
       " Min.   :  0.00   Min.   :  0.00  \n",
       " 1st Qu.: 21.00   1st Qu.: 47.00  \n",
       " Median : 52.00   Median : 70.00  \n",
       " Mean   : 52.31   Mean   : 64.67  \n",
       " 3rd Qu.: 82.00   3rd Qu.: 90.00  \n",
       " Max.   :100.00   Max.   :100.00  "
      ]
     },
     "metadata": {},
     "output_type": "display_data"
    },
    {
     "data": {
      "text/html": [
       "<span style=white-space:pre-wrap>'Number of rows in the transformed data:  2498'</span>"
      ],
      "text/latex": [
       "'Number of rows in the transformed data:  2498'"
      ],
      "text/markdown": [
       "<span style=white-space:pre-wrap>'Number of rows in the transformed data:  2498'</span>"
      ],
      "text/plain": [
       "[1] \"Number of rows in the transformed data:  2498\""
      ]
     },
     "metadata": {},
     "output_type": "display_data"
    },
    {
     "data": {
      "image/png": "[encoded data removed]",
      "text/plain": [
       "Plot with title \"Comparision of respondents feeling - Journalists and Police\""
      ]
     },
     "metadata": {},
     "output_type": "display_data"
    },
    {
     "data": {
      "image/png": "[encoded data removed]",
      "text/plain": [
       "Plot with title \"Police feeling scores\""
      ]
     },
     "metadata": {},
     "output_type": "display_data"
    }
   ],
   "source": [
    "# Treating for no-response by removing those respondents\n",
    "sub = sub[sub['ftjournal']>=0,]\n",
    "summary(sub)\n",
    "paste(\"Number of rows in the transformed data: \", nrow(sub))\n",
    "\n",
    "# Single variable analysis (Box-plots)\n",
    "options(repr.plot.height=6, repr.plot.width = 10)\n",
    "boxplot(sub$ftjournal, sub$ftpolice, main = \"Comparision of respondents feeling - Journalists and Police\", at = c(1,2),\n",
    "        names = c(\"Journalists\", \"Police\"), las = 1, col = c(\"orange\",\"red\"), border = \"brown\", horizontal = F,\n",
    "        notch = TRUE)\n",
    "par(mfrow=c(1,2), mar=c(2,2,0,0), mgp=c(.8,.1,0))\n",
    "x <- hist(sub$ftjournal, main='', col='lightblue', xlab = \"Feeling score - journalists\")\n",
    "text(x$mids,x$counts,labels=x$counts, adj=c(0.5, -0.5))\n",
    "title('Journalist feeling scores', line=-1, adj=0.5)\n",
    "Y <- hist(sub$ftpolice, main='', col='beige', xlab = \"Feeling score - police\")\n",
    "text(Y$mids,Y$counts,labels=Y$counts, adj=c(0.5, -0.5))\n",
    "title('Police feeling scores', line=-1, adj=0.5)"
   ]
  },
  {
   "cell_type": "code",
   "execution_count": 4,
   "metadata": {},
   "outputs": [
    {
     "data": {
      "image/png": "[encoded data removed]",
      "text/plain": [
       "Plot with title \"Scatterplot - Police and Journalist scores\""
      ]
     },
     "metadata": {},
     "output_type": "display_data"
    }
   ],
   "source": [
    "plot(sub$ftjournal, sub$ftpolice, main=\"Scatterplot - Police and Journalist scores\",\n",
    "     xlab=\"Journalist - Score\", ylab=\"Police - Score\", pch=20, col='red')"
   ]
  },
  {
   "cell_type": "markdown",
   "metadata": {},
   "source": [
    "### Basic EDA summary\n",
    "\n",
    "1. All the respondents (2500) provided their feelings about `police` but 2 of them didn't provide an answer about `journalists`. **We suggest removing them from the consideration set as we are going to do paired hypothesis test where it will be important to have legitimate responses for both Police and Journalists**.\n",
    "2. All the provided answers are in the range of 0 to 100 which makes sense (No need for null removal)\n",
    "3. Looking at single variable summary, we see that:\n",
    "    1. The range of scores is higher for Journalists than Police. The median score is higher for police than journalists (Refer Box-plot)\n",
    "    2. Journalist score are more concentrated on both extremes where are police score is concentrated on the high end. The distribution in the middle is pretty much the same for both classes\n",
    "4. The Scatterplot shows that individual scores for feeling towards police and journalists are not correlated. At every journalist score bucket, there seem to be a bias towards higher police score which might suggest that poeple feel better towards journalists than police in the sample, but we need to perform a hypothesis test to test this hypothesis. "
   ]
  },
  {
   "cell_type": "markdown",
   "metadata": {},
   "source": [
    "## Considerations for Hypothesis Test\n",
    "\n",
    "There are a few considerations that we will take into account:\n",
    "\n",
    "1. The feeling score is an **ordinal variable** (not a metric variable). A score of 20 is bettern than a score of 10 for example but it might not be correct to interpret that the difference in feeling towards any group is same when between a response of 10 and 20, 45 and 55 and 90 and 100. In this regard, the difference between these variable have limited meaning. \n",
    "\n",
    "2. Every respondent in the sample (excluding 2 which didn't respond to poilce question) have a pair of feeling scores for police and journalists. As per our operational definition, this score is our proxy for respect and we can do a **paired hypothesis test**. \n",
    "\n",
    "3. We assume that **each row of data (i.e. respondent) is independent**. This may be a strong assumption given the fact that all of the selected respondents share a common trait (completing most number of survey's as per YouGov panel). Although, it is possible that some of teh data rows are dependent, it is not probable. \n",
    "\n",
    "4. **Sampling is not exactly representative of US voting population**. This has been discussed and the authors have tried to compensate for it using weights. We are however assuming that the weight for each participant is 1 (i.e. the sample is representative of the US voting population) for our hypothesis testing exercise below.\n",
    "\n",
    "The question asks US voters have more respect for which group (Police or Journalists). As we don't have an strong opinion to support any one of the groups, we will start with the **two-sided hypothesis**. If we find that there is actually a stat-sig difference in respect across the two groups, we can test one sided hypothesis to test which one. Below we state the two-sided hypothesis.\n",
    "\n",
    "## Two sided Hypothesis\n",
    "\n",
    "$H_0$: There is no difference in respect between police and journalists among US voters.\n",
    "\n",
    "$H_A$: There is a difference in respect between police and journalists among US voters.\n",
    "\n",
    "## Appropriate test\n",
    "\n",
    "Given that we want to do **paired test** and the **variables are Ordinal in nature**, We wil use **sign test** for hypothesis testing. This test has lower power which means there is a higher chance of not being able to detect the effect. The key assumptions are:\n",
    "1. Differences in Police and Journalist ratings across respondents is independent. As per above discussion, we are assuming this condition to be satisfied\n",
    "2. The ratings for police and journalists are ordinal (which is obviously true)\n",
    "3. All the differences are sampled from the same population (which is what we are assuming to be true)\n",
    "\n",
    "\n",
    "## Significance Level\n",
    "\n",
    "We want to perform the test at **99% significance level** which means the expected type 1 error rate to be 1%.  \n",
    "\n",
    "## Conducting the test"
   ]
  },
  {
   "cell_type": "code",
   "execution_count": 6,
   "metadata": {},
   "outputs": [
    {
     "data": {
      "text/plain": [
       "\n",
       "\tExact binomial test\n",
       "\n",
       "data:  sum((sub1$ftpolice - sub1$ftjournal) > 0) and nrow(sub)\n",
       "number of successes = 1373, number of trials = 2498, p-value =\n",
       "7.581e-07\n",
       "alternative hypothesis: true probability of success is not equal to 0.5\n",
       "99 percent confidence interval:\n",
       " 0.5237227 0.5753658\n",
       "sample estimates:\n",
       "probability of success \n",
       "             0.5496397 \n"
      ]
     },
     "metadata": {},
     "output_type": "display_data"
    },
    {
     "data": {
      "text/html": [
       "'Median difference in rating in overall data : 4'"
      ],
      "text/latex": [
       "'Median difference in rating in overall data : 4'"
      ],
      "text/markdown": [
       "'Median difference in rating in overall data : 4'"
      ],
      "text/plain": [
       "[1] \"Median difference in rating in overall data : 4\""
      ]
     },
     "metadata": {},
     "output_type": "display_data"
    }
   ],
   "source": [
    "# REMOVING ALL THE ROWS OF DATA WHERE THERE IS A TIE BETWEEN THE TWO SCORES\n",
    "sub1 <- sub[(sub$ftpolice != sub$ftjournal), ] \n",
    "\n",
    "# RUNNING THE BINOMIAL TEST \n",
    "binom.test(sum((sub1$ftpolice - sub1$ftjournal)> 0), nrow(sub), p=0.5, alternative = \"two.sided\", conf.level = 0.99)\n",
    "\n",
    "# CALCULATING MEDIAN SCORE DIFFERENCE IN TE ORIGINAL DATA\n",
    "paste(\"Median difference in rating in overall data :\", median(sub$ftpolice - sub$ftjournal))"
   ]
  },
  {
   "cell_type": "markdown",
   "metadata": {},
   "source": [
    "## Interpretation of the test\n",
    "\n",
    "To conduct the sign test, we can do the following:\n",
    "\n",
    "1. Remove all the rows of data where the score for police and journalists is a tie\n",
    "2. For remaining dataset, define the cases where police score is higher than journalists as 1 and otherwith 0. This way we create a binary vector where we can run a binomial test to check if the proportion mean is 0.5\n",
    "\n",
    "We have the following observations:\n",
    "\n",
    "1. The total sample size is 2417. Out of that, there are 1373 respondents who gave higher score to Police than Jourlalists. \n",
    "2. The p-value for this test (at 99% significance level) is $2.361 * 10^{-11}$. which is way smaller than our target significance level (of 0.01). Hence, we have statistically significant evidence to reject the Null hypothesis that the US voters repect police and journalists the same. \n",
    "3. The 99 percent confidence interval for the median difference in Score for proportion of people favoring police over journalists is [0.5418, 0.5941]. We can see that this number doesn't contain 0.5 which was our null hypothesis.\n",
    "4. The sample median for the difference between police and journalist median scores is 4\n",
    "\n",
    "As mentioned before, at this point, we can perform a one-sided hypothesis test to see if the US voter prefer police over journalists.\n",
    "\n",
    "### One sided Hypothesis\n",
    "\n",
    "$H1_0$: There is no difference in respect between police and journalists among US voters.\n",
    "\n",
    "$H1_A$: US voters respect Police more than Journalists."
   ]
  },
  {
   "cell_type": "code",
   "execution_count": 8,
   "metadata": {},
   "outputs": [
    {
     "data": {
      "text/plain": [
       "\n",
       "\tExact binomial test\n",
       "\n",
       "data:  sum((sub1$ftpolice - sub1$ftjournal) > 0) and nrow(sub1)\n",
       "number of successes = 1373, number of trials = 2417, p-value = 1.18e-11\n",
       "alternative hypothesis: true probability of success is greater than 0.5\n",
       "99 percent confidence interval:\n",
       " 0.5443169 1.0000000\n",
       "sample estimates:\n",
       "probability of success \n",
       "             0.5680596 \n"
      ]
     },
     "metadata": {},
     "output_type": "display_data"
    }
   ],
   "source": [
    "binom.test(sum((sub1$ftpolice - sub1$ftjournal)> 0), nrow(sub1), p=0.5, alternative = \"greater\", conf.level = 0.99)"
   ]
  },
  {
   "cell_type": "markdown",
   "metadata": {},
   "source": [
    "From the above one sample result, we can conclude that at 99% confidence level, we can reject the null hypothesis $H1_0$in favor of the alternative hypothesis $H1_A$. \n",
    "\n",
    "### Effect size\n",
    "A measure of difference can be the median difference in the sample between police and journalist score whcih is 4. \n",
    "\n",
    "### Practical significance and Discussion\n",
    "\n",
    "Although we got a highly statistically significant result, the effect size seems to be medium (4 point difference) and it is rather hard to interpret this difference as the feeling score is not a metric. Our research question was specifically about respect rather than likeness hence there is an asymmetry between out research question and the actual question."
   ]
  },
  {
   "cell_type": "markdown",
   "metadata": {},
   "source": [
    "## Question 5"
   ]
  },
  {
   "cell_type": "markdown",
   "metadata": {},
   "source": [
    "## Introduction\n",
    "**Climate change** is a politically charged issue, one of the most politically dividing in the context of US politics. On the party lines, Democrats and Republicans have very different opinions about this issue. As this is a global issue of significance, it is important to note the voter sentiment around it. In politics, nothing is permanent and if enough voter sentiment changes around the subject (one way or the other) we can expect party leadership to change the tune on this matter. \n",
    "\n",
    "In this regard, we expect the liberal-conservative bias to show up in the public opinion. We want to go one step further and see if we can come up with something more interesting. \n",
    "\n",
    "\n",
    "## Political question\n",
    "\n",
    "The key question we want to answer is that **between the Democrat and Republican voters, what is the difference between the proportion of voters with extreme opinions about climate change**? The intuition behind this question is that if a large proportion of voters are on a extreme on some policy position, there is less motivation for the political parties to difer from that extreme. On the other hand, if the voting pupulation is diffused (and not concentrated on one of the extremes) then there is incentive for political parties to change their positions in order to compete for the swing vote. \n",
    "\n",
    "In this regard, the positions where the voting population is not on the extremes become more important politically as these become the grounds for getting the swing votes. \n",
    "\n",
    "\n",
    "## Design and Operational Definitions\n",
    "\n",
    "\n",
    "### Opinion Tagging\n",
    "`Extreme` is a loaded word and we define it differently based on the cohort. There are five choices for the question `How important is the issue of climate change to you personally? `. We define the following encoding for Democrat and republican voters:\n",
    "\n",
    "|Answer Option|Democrat encoding|Republican Encoding|\n",
    "|--|--|--|\n",
    "|Not at all important (1)|0|1|\n",
    "|A little important (2)|0|0|\n",
    "|Moderately important (3)|0|0|\n",
    "|Very important (4)|0|0|\n",
    "|Extremely important (5)|1|0|\n",
    "\n",
    "Via this encoding, we are trying to understand that within each voting cohort (D and R), what is the proportion of extreme response. \n",
    "\n",
    "### Party affliation tagging\n",
    "\n",
    "We are using the combination of `pid1r` and `pid1d` columns for this. We will only consider the rows where each of these column values are either 1 or 2 (with 1 being democrat and 2 being republican). We will disregard all other values. \n",
    "\n",
    "**CAUTION**: In this way, we are disregarding every respondent who has declined to answer this question, independent and supports other party. The last are ok because we explicitely are interested in Democrat and Republican split but the first is concerning as this means we might be missing some undecided candidate. (Analysis show that we wil be disregarding only 2 people thsi was so that is ok)"
   ]
  },
  {
   "cell_type": "code",
   "execution_count": 18,
   "metadata": {},
   "outputs": [
    {
     "name": "stdout",
     "output_type": "stream",
     "text": [
      "[1] \"Rows of data with missing score entry\"\n"
     ]
    },
    {
     "data": {
      "text/html": [
       "<table>\n",
       "<thead><tr><th></th><th scope=col>pid1d</th><th scope=col>pid1r</th><th scope=col>warmyou</th></tr></thead>\n",
       "<tbody>\n",
       "\t<tr><th scope=row>497</th><td>-1</td><td>-7</td><td>5 </td></tr>\n",
       "\t<tr><th scope=row>596</th><td>-7</td><td>-1</td><td>1 </td></tr>\n",
       "</tbody>\n",
       "</table>\n"
      ],
      "text/latex": [
       "\\begin{tabular}{r|lll}\n",
       "  & pid1d & pid1r & warmyou\\\\\n",
       "\\hline\n",
       "\t497 & -1 & -7 & 5 \\\\\n",
       "\t596 & -7 & -1 & 1 \\\\\n",
       "\\end{tabular}\n"
      ],
      "text/markdown": [
       "\n",
       "| <!--/--> | pid1d | pid1r | warmyou |\n",
       "|---|---|---|---|\n",
       "| 497 | -1 | -7 | 5  |\n",
       "| 596 | -7 | -1 | 1  |\n",
       "\n"
      ],
      "text/plain": [
       "    pid1d pid1r warmyou\n",
       "497 -1    -7    5      \n",
       "596 -7    -1    1      "
      ]
     },
     "metadata": {},
     "output_type": "display_data"
    },
    {
     "name": "stdout",
     "output_type": "stream",
     "text": [
      "[1] \"Overall Summary of the filtered data\"\n"
     ]
    },
    {
     "data": {
      "text/plain": [
       "     pid1d             pid1r            warmyou     \n",
       " Min.   :-1.0000   Min.   :-1.0000   Min.   :1.000  \n",
       " 1st Qu.:-1.0000   1st Qu.:-1.0000   1st Qu.:2.000  \n",
       " Median :-1.0000   Median :-1.0000   Median :3.000  \n",
       " Mean   : 0.4155   Mean   : 0.4644   Mean   :3.142  \n",
       " 3rd Qu.: 2.0000   3rd Qu.: 2.0000   3rd Qu.:4.000  \n",
       " Max.   : 4.0000   Max.   : 4.0000   Max.   :5.000  "
      ]
     },
     "metadata": {},
     "output_type": "display_data"
    },
    {
     "data": {
      "text/html": [
       "'Number of records (total) : 1466'"
      ],
      "text/latex": [
       "'Number of records (total) : 1466'"
      ],
      "text/markdown": [
       "'Number of records (total) : 1466'"
      ],
      "text/plain": [
       "[1] \"Number of records (total) : 1466\""
      ]
     },
     "metadata": {},
     "output_type": "display_data"
    }
   ],
   "source": [
    "party <- A[,c('pid1d', 'pid1r','warmyou')]\n",
    "\n",
    "# Respondents that declined to answer the party affliation question\n",
    "print(\"Rows of data with missing score entry\")\n",
    "party[(party$pid1d == -7)|(party$pid1r == -7),]\n",
    "party <- party[!((party$pid1d == -7)|(party$pid1r == -7)),]\n",
    "\n",
    "# Summary of the filtered resulting dataset\n",
    "print(\"Overall Summary of the filtered data\")\n",
    "summary(party)\n",
    "\n",
    "# Tagging the part affliations\n",
    "party$party <- ifelse(party$pid1d == 2 | party$pid1r == 2, 'REPUBLICAN', ifelse(party$pid1d == 1 | party$pid1r == 1, \n",
    "                                                                                'DEMOCRAT', 'O'))\n",
    "\n",
    "# Removing all the data rows representing votes who are neither democrat nor republicans\n",
    "party <- party[party$party != 'O',]\n",
    "\n",
    "# Final dataset size\n",
    "paste(\"Number of records (total) :\", nrow(party))"
   ]
  },
  {
   "cell_type": "markdown",
   "metadata": {},
   "source": [
    "## Potential issues\n",
    "\n",
    "1. We are using self declaration by respondents on the face value. We also have the data available around 2016 voting and it might be more relevant to use that as the source of party affliation. Our core assumption is that the self reported affliations are ok\n",
    "\n",
    "2. Voter opinion should be an imporant factor in deciding the position a political party take but there can be multiple reasons for a delay between change in public opinion and change in party leadership position. This analysis doesn't account for that\n",
    "\n",
    "3. This analysis takes into cosideration that high proportion if voters of respective parties hold extreme opinions about climate change (whcih came from the data). If in coming time that changes (i.e. less percent of voters have extreme opinion), the basis of this study will have to change. \n",
    "\n",
    "4. We are **assuming** that party position on global warming is a factor which affects voting behavior. If it doesn't then the proportion of people with extreme opinions on thsi subject will not matter at all to party leadership. "
   ]
  },
  {
   "cell_type": "markdown",
   "metadata": {},
   "source": [
    "## Exploratory analysis\n",
    "\n",
    "As per our discussion above, both democrat and republicans have different connotations for extreme opinions. Following the schema discussed above, we will transfrom the `warmyou` variable into a binary vector. There are total 1466 rows of data in our consideration set (609-Republican| 857-Democrat). Overall, the data quality after appropriate tagging is good and no Nulls are present in the data. We have already extracted out the respondents that didn't provide information about their party affliation. The data ranges for all three variables is as expected."
   ]
  },
  {
   "cell_type": "code",
   "execution_count": 20,
   "metadata": {},
   "outputs": [],
   "source": [
    "# tagging the extreme results appropriately in line with the party lines\n",
    "\n",
    "party$extreme_opinion <- ifelse((party$party == 'REPUBLICAN')&(party$warmyou==1), \n",
    "                                1, ifelse((party$party == 'DEMOCRAT')&(party$warmyou==5), 1, 0))"
   ]
  },
  {
   "cell_type": "markdown",
   "metadata": {},
   "source": [
    "## Visualization"
   ]
  },
  {
   "cell_type": "code",
   "execution_count": 21,
   "metadata": {},
   "outputs": [
    {
     "name": "stdout",
     "output_type": "stream",
     "text": [
      "[1] \"The distribution across classes\"\n"
     ]
    },
    {
     "data": {
      "text/plain": [
       "            \n",
       "               0   1\n",
       "  DEMOCRAT   518 339\n",
       "  REPUBLICAN 332 277"
      ]
     },
     "metadata": {},
     "output_type": "display_data"
    },
    {
     "data": {
      "image/png": "[encoded data removed]",
      "text/plain": [
       "Plot with title \"Distribution of extreme vs. non-extreme opinion voters\""
      ]
     },
     "metadata": {},
     "output_type": "display_data"
    }
   ],
   "source": [
    "print('The distribution across classes')\n",
    "table(party$party, party$extreme_opinion)\n",
    "\n",
    "plot(table(party$party, party$extreme_opinion), main = 'Distribution of extreme vs. non-extreme opinion voters')"
   ]
  },
  {
   "cell_type": "markdown",
   "metadata": {},
   "source": [
    "## Hypothesis - Two sided\n",
    "\n",
    "$H_0$: Proportion of voters with extreme responses between democrat and republican voters is the same\n",
    "\n",
    "$H_A$: Proportion of voters with extreme responses between democrat and republican voters is NOT the same\n",
    "\n",
    "## Significance level \n",
    "\n",
    "We want to perfrom the test at 95% significance level (i.e. Expected FPR of 5%) \n",
    "\n",
    "## Appropriate test selection and conditions\n",
    "\n",
    "**2-proportion z-test** seems to be appropriate for this case. The key conditions for this test are:\n",
    "\n",
    "1. We have a simple random sample - This condition is not met exactly but for all the analysis before this section we are assuming this to be true. Hence we can assume this condition to be met here as well\n",
    "\n",
    "2. Independent sample - Sample should be independent. As mentioned in previous analysis, this might be a strong assumption but we are anyways considering it to be true\n",
    "\n",
    "3. Sample size restrictions - Each sample has > 10 respondents and population is atleast 20 times bigger than the sample\n",
    "\n",
    "## Conduction of the test"
   ]
  },
  {
   "cell_type": "code",
   "execution_count": 15,
   "metadata": {},
   "outputs": [
    {
     "data": {
      "text/plain": [
       "\n",
       "\t2-sample test for equality of proportions without continuity\n",
       "\tcorrection\n",
       "\n",
       "data:  c(sum(party[(party$party == \"DEMOCRAT\") & (party$extreme_opinion ==  out of c(nrow(party[party$party == \"DEMOCRAT\", ]), nrow(party[party$party ==     1), \"extreme_opinion\"]), sum(party[(party$party == \"REPUBLICAN\") &  out of     \"REPUBLICAN\", ]))    (party$extreme_opinion == 1), \"extreme_opinion\"])) out of c(nrow(party[party$party == \"DEMOCRAT\", ]), nrow(party[party$party == \n",
       "X-squared = 5.1348, df = 1, p-value = 0.02345\n",
       "alternative hypothesis: two.sided\n",
       "95 percent confidence interval:\n",
       " -0.11061828 -0.00793788\n",
       "sample estimates:\n",
       "   prop 1    prop 2 \n",
       "0.3955659 0.4548440 \n"
      ]
     },
     "metadata": {},
     "output_type": "display_data"
    }
   ],
   "source": [
    "prop.test(x = c(sum(party[(party$party == 'DEMOCRAT')&(party$extreme_opinion==1), 'extreme_opinion']), \n",
    "                sum(party[(party$party == 'REPUBLICAN')&(party$extreme_opinion==1), 'extreme_opinion'])),\n",
    "          n=c(nrow(party[party$party == 'DEMOCRAT', ]), nrow(party[party$party == 'REPUBLICAN', ])),\n",
    "          conf.level = 0.95,alternative = 'two.sided', correct=F)"
   ]
  },
  {
   "cell_type": "markdown",
   "metadata": {},
   "source": [
    "We tested the two sided hypothesis that the proportion of extreme opinion voters in Demotratic and Republican party are same.  Against the alternate hypothesis that they are different. From the 2-sample z-test we see that \n",
    "\n",
    "1. The p-value is 0.02345\n",
    "2. 95% confidence interval for the difference in proportions is [-0.1106, -0.0079] (which doesn't contains 0)\n",
    "\n",
    "At 95% confidence level, we have sufficient evidence coming from the data to **reject the Null Hypothesis**. \n",
    "\n",
    "\n",
    "## One sided Hypothesis test\n",
    "\n",
    "We can now test the hypothesis that among Republican voters, prevelance of extreme opinion is higher than among Democrat voters. \n",
    "\n",
    "## Hypothesis - One sided\n",
    "\n",
    "$H_0$: Proportion of voters with extreme responses between democrat and republican voters is the same\n",
    "\n",
    "$H_A$: Proportion of voters with extreme responses among democrat voters is less than republican voters\n"
   ]
  },
  {
   "cell_type": "code",
   "execution_count": 16,
   "metadata": {},
   "outputs": [
    {
     "data": {
      "text/plain": [
       "\n",
       "\t2-sample test for equality of proportions without continuity\n",
       "\tcorrection\n",
       "\n",
       "data:  c(sum(party[(party$party == \"DEMOCRAT\") & (party$extreme_opinion ==  out of c(nrow(party[party$party == \"DEMOCRAT\", ]), nrow(party[party$party ==     1), \"extreme_opinion\"]), sum(party[(party$party == \"REPUBLICAN\") &  out of     \"REPUBLICAN\", ]))    (party$extreme_opinion == 1), \"extreme_opinion\"])) out of c(nrow(party[party$party == \"DEMOCRAT\", ]), nrow(party[party$party == \n",
       "X-squared = 5.1348, df = 1, p-value = 0.01173\n",
       "alternative hypothesis: less\n",
       "95 percent confidence interval:\n",
       " -1.00000000 -0.01619203\n",
       "sample estimates:\n",
       "   prop 1    prop 2 \n",
       "0.3955659 0.4548440 \n"
      ]
     },
     "metadata": {},
     "output_type": "display_data"
    }
   ],
   "source": [
    "prop.test(x = c(sum(party[(party$party == 'DEMOCRAT')&(party$extreme_opinion==1), 'extreme_opinion']), \n",
    "                sum(party[(party$party == 'REPUBLICAN')&(party$extreme_opinion==1), 'extreme_opinion'])),\n",
    "          n=c(nrow(party[party$party == 'DEMOCRAT', ]), nrow(party[party$party == 'REPUBLICAN', ])),\n",
    "          conf.level = 0.95,alternative = 'less', correct=F)"
   ]
  },
  {
   "cell_type": "markdown",
   "metadata": {},
   "source": [
    "## Results\n",
    "At 95% confidence level, we have sufficient evidence to reject the null hypothesis in favor of one sided alternative hypothesis. \n",
    "\n",
    "## Effect size\n",
    "\n",
    "The difference of proportion (which stands at -0.0592) in the sample between democrat voters with extreme opinions and republicans can be a good proxy for the effect size. Converting this to percentages, thsi says that the affinity to extreme with respect to climate change is ~6% higher among republican voters than democrat voters. This is a sizable effect. "
   ]
  },
  {
   "cell_type": "markdown",
   "metadata": {},
   "source": [
    "## Conclusion\n",
    "\n",
    "We tried to underatnd the opinions of US voters vis-a-vis party opinions along the topic of climate change. What we see is that a huge proportion of voters on both sides cling to the extremes (democrats to the importance of this topic and Republicans to the unimportance). Yet we see that there is a **sizable, statistically significant difference** between the extreme opinion voters across the party lines. \n",
    "\n",
    "There are significantly more extreme opinion holding voters on republican side than democrat (~ 6%). In the long run, this analysis give rise to the idea that atleast in the short run, there is less chance for Republican party line to change its narrative around Climate change (in absence of public support).\n",
    "\n",
    "More work need to be done to understand this further in terms of respondant age and other demographic factors."
   ]
  }
 ],
 "metadata": {
  "kernelspec": {
   "display_name": "R",
   "language": "R",
   "name": "ir"
  },
  "language_info": {
   "codemirror_mode": "r",
   "file_extension": ".r",
   "mimetype": "text/x-r-source",
   "name": "R",
   "pygments_lexer": "r",
   "version": "3.6.1"
  }
 },
 "nbformat": 4,
 "nbformat_minor": 2
}
