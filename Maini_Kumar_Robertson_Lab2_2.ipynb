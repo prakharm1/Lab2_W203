{
 "cells": [
  {
   "cell_type": "code",
   "execution_count": 2,
   "metadata": {},
   "outputs": [],
   "source": [
    "# Data\n",
    "A = read.csv(\"anes_pilot_2018.csv\")"
   ]
  },
  {
   "cell_type": "markdown",
   "metadata": {},
   "source": [
    "## Question 1: Do US voters have more respect for the police or for journalists?"
   ]
  },
  {
   "cell_type": "markdown",
   "metadata": {},
   "source": [
    "## Topic\n",
    "Survey used `feeling thermometer` wigit to understand how the respondents **feel** about some persons or groups (which include both journalists and police). Respondents need to answer on an ordinal scale with a number between 0 and 100. This setting, although, gives a good idea about how favorable or unfavorable the respondant feels about blacks and police, it is only a rough proxy for **respect**. \n",
    "\n",
    "### Operational Definition\n",
    "We are going to use the respondent's feeling about the police and journalists (from columns `ftpolice` and `ftjournal`) as a proxy for the respect they have for these groups. Numbers close to 100 mean high respect and numbers close to 0 mean low respect.\n",
    "\n",
    "## Exproratory Data Analysis"
   ]
  },
  {
   "cell_type": "code",
   "execution_count": 3,
   "metadata": {},
   "outputs": [
    {
     "data": {
      "text/plain": [
       "   ftjournal         ftpolice     \n",
       " Min.   : -7.00   Min.   :  0.00  \n",
       " 1st Qu.: 21.00   1st Qu.: 47.00  \n",
       " Median : 52.00   Median : 70.00  \n",
       " Mean   : 52.26   Mean   : 64.68  \n",
       " 3rd Qu.: 82.00   3rd Qu.: 90.00  \n",
       " Max.   :100.00   Max.   :100.00  "
      ]
     },
     "metadata": {},
     "output_type": "display_data"
    },
    {
     "data": {
      "text/html": [
       "<span style=white-space:pre-wrap>'Number of rows in the original data:  2500'</span>"
      ],
      "text/latex": [
       "'Number of rows in the original data:  2500'"
      ],
      "text/markdown": [
       "<span style=white-space:pre-wrap>'Number of rows in the original data:  2500'</span>"
      ],
      "text/plain": [
       "[1] \"Number of rows in the original data:  2500\""
      ]
     },
     "metadata": {},
     "output_type": "display_data"
    },
    {
     "name": "stdout",
     "output_type": "stream",
     "text": [
      "[1] \"Non-responding entries\"\n"
     ]
    },
    {
     "data": {
      "text/html": [
       "<table>\n",
       "<thead><tr><th></th><th scope=col>ftjournal</th><th scope=col>ftpolice</th></tr></thead>\n",
       "<tbody>\n",
       "\t<tr><th scope=row>51</th><td>-7</td><td>84</td></tr>\n",
       "\t<tr><th scope=row>597</th><td>-7</td><td>91</td></tr>\n",
       "</tbody>\n",
       "</table>\n"
      ],
      "text/latex": [
       "\\begin{tabular}{r|ll}\n",
       "  & ftjournal & ftpolice\\\\\n",
       "\\hline\n",
       "\t51 & -7 & 84\\\\\n",
       "\t597 & -7 & 91\\\\\n",
       "\\end{tabular}\n"
      ],
      "text/markdown": [
       "\n",
       "| <!--/--> | ftjournal | ftpolice |\n",
       "|---|---|---|\n",
       "| 51 | -7 | 84 |\n",
       "| 597 | -7 | 91 |\n",
       "\n"
      ],
      "text/plain": [
       "    ftjournal ftpolice\n",
       "51  -7        84      \n",
       "597 -7        91      "
      ]
     },
     "metadata": {},
     "output_type": "display_data"
    }
   ],
   "source": [
    "# Basic variable summary\n",
    "sub = A[c('ftjournal', 'ftpolice')]\n",
    "summary(sub)\n",
    "paste(\"Number of rows in the original data: \", nrow(sub))\n",
    "\n",
    "# Visualizing data ros where no responses were provided\n",
    "print(\"Non-responding entries\")\n",
    "(sub[sub['ftjournal'] < 0,])"
   ]
  },
  {
   "cell_type": "code",
   "execution_count": 4,
   "metadata": {},
   "outputs": [
    {
     "data": {
      "text/plain": [
       "   ftjournal         ftpolice     \n",
       " Min.   :  0.00   Min.   :  0.00  \n",
       " 1st Qu.: 21.00   1st Qu.: 47.00  \n",
       " Median : 52.00   Median : 70.00  \n",
       " Mean   : 52.31   Mean   : 64.67  \n",
       " 3rd Qu.: 82.00   3rd Qu.: 90.00  \n",
       " Max.   :100.00   Max.   :100.00  "
      ]
     },
     "metadata": {},
     "output_type": "display_data"
    },
    {
     "data": {
      "text/html": [
       "<span style=white-space:pre-wrap>'Number of rows in the transformed data:  2498'</span>"
      ],
      "text/latex": [
       "'Number of rows in the transformed data:  2498'"
      ],
      "text/markdown": [
       "<span style=white-space:pre-wrap>'Number of rows in the transformed data:  2498'</span>"
      ],
      "text/plain": [
       "[1] \"Number of rows in the transformed data:  2498\""
      ]
     },
     "metadata": {},
     "output_type": "display_data"
    },
    {
     "data": {
      "image/png": "[encoded data removed]",
      "text/plain": [
       "Plot with title \"Comparision of respondents feeling - Journalists and Police\""
      ]
     },
     "metadata": {},
     "output_type": "display_data"
    },
    {
     "data": {
      "image/png": "[encoded data removed]",
      "text/plain": [
       "Plot with title \"Police feeling scores\""
      ]
     },
     "metadata": {},
     "output_type": "display_data"
    }
   ],
   "source": [
    "# Treating for no-response by removing those respondents\n",
    "sub = sub[sub['ftjournal']>=0,]\n",
    "summary(sub)\n",
    "paste(\"Number of rows in the transformed data: \", nrow(sub))\n",
    "\n",
    "# Single variable analysis (Box-plots)\n",
    "options(repr.plot.height=6, repr.plot.width = 10)\n",
    "boxplot(sub$ftjournal, sub$ftpolice, main = \"Comparision of respondents feeling - Journalists and Police\", at = c(1,2),\n",
    "        names = c(\"Journalists\", \"Police\"), las = 1, col = c(\"orange\",\"red\"), border = \"brown\", horizontal = F,\n",
    "        notch = TRUE, ylab='Feeling score')\n",
    "par(mfrow=c(1,2), mar=c(2,2,0,0), mgp=c(.8,.1,0))\n",
    "x <- hist(sub$ftjournal, main='', col='lightblue', xlab = \"Feeling score - journalists\")\n",
    "text(x$mids,x$counts,labels=x$counts, adj=c(0.5, -0.5))\n",
    "title('Journalist feeling scores', line=-1, adj=0.5)\n",
    "Y <- hist(sub$ftpolice, main='', col='beige', xlab = \"Feeling score - police\")\n",
    "text(Y$mids,Y$counts,labels=Y$counts, adj=c(0.5, -0.5))\n",
    "title('Police feeling scores', line=-1, adj=0.5)"
   ]
  },
  {
   "cell_type": "code",
   "execution_count": 5,
   "metadata": {},
   "outputs": [
    {
     "data": {
      "image/png": "[encoded data removed]",
      "text/plain": [
       "Plot with title \"Scatterplot - Police and Journalist scores\""
      ]
     },
     "metadata": {},
     "output_type": "display_data"
    }
   ],
   "source": [
    "plot(jitter(sub$ftjournal), jitter(sub$ftpolice), main=\"Scatterplot - Police and Journalist scores\",\n",
    "     xlab=\"Journalist - Score\", ylab=\"Police - Score\", pch=20, col='red')"
   ]
  },
  {
   "cell_type": "code",
   "execution_count": 6,
   "metadata": {},
   "outputs": [
    {
     "data": {
      "image/png": "[encoded data removed]",
      "text/plain": [
       "Plot with title \"Histogram of the score difference (Police - Journalist)\""
      ]
     },
     "metadata": {},
     "output_type": "display_data"
    }
   ],
   "source": [
    "hist(sub$ftpolice - sub$ftjournal, main='Histogram of the score difference (Police - Journalist)', col='red', \n",
    "          xlab = \"Feeling score - (Police - Journalist)\")"
   ]
  },
  {
   "cell_type": "markdown",
   "metadata": {},
   "source": [
    "### Basic EDA summary\n",
    "\n",
    "1. All the respondents (2500) provided their feelings about `police` but 2 of them didn't provide an answer about `journalists`. **We suggest removing them from the consideration set as we are going to do paired hypothesis test where it will be important to have legitimate responses for both Police and Journalists**.\n",
    "2. All the provided answers are in the range of 0 to 100 which makes sense (No need for null removal)\n",
    "3. Looking at single variable summary, we see that:\n",
    "    1. The range of scores is higher for Journalists than Police. The median score is higher for police than journalists (Refer Box-plot)\n",
    "    2. Journalist score are more concentrated on both extremes where are police score is concentrated on the high end. The distribution in the middle is pretty much the same for both classes\n",
    "4. The Scatterplot shows that individual scores for feeling towards police and journalists are not correlated. At every journalist score bucket, there seem to be a bias towards higher police score which might suggest that poeple feel better towards journalists than police in the sample, but we need to perform a hypothesis test to test this hypothesis. \n",
    "5. The histogram of score difference per individual shows a bias towards positive."
   ]
  },
  {
   "cell_type": "markdown",
   "metadata": {},
   "source": [
    "## Considerations for Hypothesis Test\n",
    "\n",
    "There are a few considerations that we will take into account:\n",
    "\n",
    "1. The feeling score is an **ordinal variable** (not a metric variable). A score of 20 is bettern than a score of 10 for example but it might not be correct to interpret that the difference in feeling towards any group is same when between a response of 10 and 20, 45 and 55 and 90 and 100. In this regard, the difference between these variable have limited meaning. \n",
    "\n",
    "2. Every respondent in the sample (excluding 2 which didn't respond to poilce question) have a pair of feeling scores for police and journalists. As per our operational definition, this score is our proxy for respect and we can do a **paired hypothesis test**. \n",
    "\n",
    "3. We assume that **each row of data (i.e. respondent) is independent**. This may be a strong assumption given the fact that all of the selected respondents share a common trait (completing most number of survey's as per YouGov panel). Although, it is possible that some of teh data rows are dependent, it is not probable. \n",
    "\n",
    "4. **Sampling is not exactly representative of US voting population**. This has been discussed and the authors have tried to compensate for it using weights. We are however assuming that the weight for each participant is 1 (i.e. the sample is representative of the US voting population) for our hypothesis testing exercise below.\n",
    "\n",
    "The question asks US voters have more respect for which group (Police or Journalists). As we don't have an strong opinion to support any one of the groups, we will start with the **two-sided hypothesis**. If we find that there is actually a stat-sig difference in respect across the two groups, we can test one sided hypothesis to test which one. Below we state the two-sided hypothesis.\n",
    "\n",
    "## Two sided Hypothesis\n",
    "\n",
    "$H_0$: There is no difference in respect between police and journalists among US voters.\n",
    "\n",
    "$H_A$: There is a difference in respect between police and journalists among US voters.\n",
    "\n",
    "## Appropriate test\n",
    "\n",
    "Given that we want to do **paired test** and the **variables are Ordinal in nature**, We wil use **sign test** for hypothesis testing. This test has lower power which means there is a higher chance of not being able to detect the effect. The key assumptions are:\n",
    "1. Differences in Police and Journalist ratings across respondents is independent. As per above discussion, we are assuming this condition to be satisfied\n",
    "2. The ratings for police and journalists are ordinal (which is obviously true)\n",
    "3. All the differences are sampled from the same population (which is what we are assuming to be true)\n",
    "\n",
    "\n",
    "## Significance Level\n",
    "\n",
    "We want to perform the test at **99% significance level** which means the expected type 1 error rate to be 1%.  \n",
    "\n",
    "## Conducting the test"
   ]
  },
  {
   "cell_type": "code",
   "execution_count": 7,
   "metadata": {},
   "outputs": [
    {
     "name": "stderr",
     "output_type": "stream",
     "text": [
      "Warning message:\n",
      "\"package 'BSDA' was built under R version 3.6.3\"Loading required package: lattice\n",
      "\n",
      "Attaching package: 'BSDA'\n",
      "\n",
      "The following object is masked from 'package:datasets':\n",
      "\n",
      "    Orange\n",
      "\n"
     ]
    }
   ],
   "source": [
    "library('BSDA')"
   ]
  },
  {
   "cell_type": "code",
   "execution_count": 8,
   "metadata": {},
   "outputs": [
    {
     "data": {
      "text/plain": [
       "\n",
       "\tDependent-samples Sign-Test\n",
       "\n",
       "data:  sub$ftpolice and sub$ftjournal\n",
       "S = 1373, p-value = 2.361e-11\n",
       "alternative hypothesis: true median difference is not equal to 0\n",
       "99 percent confidence interval:\n",
       " 2 7\n",
       "sample estimates:\n",
       "median of x-y \n",
       "            4 \n",
       "\n",
       "Achieved and Interpolated Confidence Intervals: \n",
       "\n",
       "                  Conf.Level L.E.pt U.E.pt\n",
       "Lower Achieved CI     0.9890      2      7\n",
       "Interpolated CI       0.9900      2      7\n",
       "Upper Achieved CI     0.9902      2      7\n"
      ]
     },
     "metadata": {},
     "output_type": "display_data"
    }
   ],
   "source": [
    "SIGN.test(sub$ftpolice , sub$ftjournal, md = 0, conf.level = 0.99, alternative = 'two.sided')"
   ]
  },
  {
   "cell_type": "markdown",
   "metadata": {},
   "source": [
    "## Interpretation of the test\n",
    "\n",
    "We have the following observations:\n",
    "\n",
    "1. The total sample size is 2417. Out of that, there are 1373 respondents who gave higher score to Police than Jourlalists. \n",
    "2. The p-value for this test (at 99% significance level) is $2.361 * 10^{-11}$. which is way smaller than our target significance level (of 0.01). Hence, we have statistically significant evidence to reject the Null hypothesis that the US voters repect police and journalists the same. \n",
    "3. The 99 percent confidence interval for the median difference in Score for proportion of people favoring police over journalists is [0.5418, 0.5941]. We can see that this number doesn't contain 0.5 which was our null hypothesis.\n",
    "4. The sample median for the difference between police and journalist median scores is 4\n",
    "\n",
    "As mentioned before, at this point, we can perform a one-sided hypothesis test to see if the US voter prefer police over journalists.\n",
    "\n",
    "### One sided Hypothesis\n",
    "\n",
    "$H1_0$: There is no difference in respect between police and journalists among US voters.\n",
    "\n",
    "$H1_A$: US voters respect Police more than Journalists."
   ]
  },
  {
   "cell_type": "code",
   "execution_count": 9,
   "metadata": {},
   "outputs": [
    {
     "data": {
      "text/plain": [
       "\n",
       "\tDependent-samples Sign-Test\n",
       "\n",
       "data:  sub$ftpolice and sub$ftjournal\n",
       "S = 1373, p-value = 1.18e-11\n",
       "alternative hypothesis: true median difference is greater than 0\n",
       "99 percent confidence interval:\n",
       "   2 Inf\n",
       "sample estimates:\n",
       "median of x-y \n",
       "            4 \n",
       "\n",
       "Achieved and Interpolated Confidence Intervals: \n",
       "\n",
       "                  Conf.Level L.E.pt U.E.pt\n",
       "Lower Achieved CI     0.9893      2    Inf\n",
       "Interpolated CI       0.9900      2    Inf\n",
       "Upper Achieved CI     0.9904      2    Inf\n"
      ]
     },
     "metadata": {},
     "output_type": "display_data"
    }
   ],
   "source": [
    "SIGN.test(sub$ftpolice , sub$ftjournal, md = 0, conf.level = 0.99, alternative = 'greater')"
   ]
  },
  {
   "cell_type": "markdown",
   "metadata": {},
   "source": [
    "From the above one sample result, we can conclude that at 99% confidence level, we can reject the null hypothesis $H1_0$in favor of the alternative hypothesis $H1_A$. \n",
    "\n",
    "## Effect size\n",
    "A measure of difference can be the median difference in the sample between police and journalist score whcih is 4. Additionally, If we want to use a <u>dimentionless effect size estimate</u>, we can calculate $PS_{dep}$ which is relevant in the case of dependent sample non-parametric testing and calculated as \n",
    "\n",
    "$$PS_{dep} = \\frac{n_{+}}{N}$$\n",
    "\n",
    "Here $n_{+}$ is the total number of cases which have police_score > journalist_score and $N$ is the total number of cases in the consideration set (excluding the ties). <u>The interpretation of this score is that it is the probability that in a randomly sampled pair of scores, score from condition B will be greater than score from condition A</u>. When we put in the numbers, we have \n",
    "\n",
    "\n",
    "$$PS_{dep} = \\frac{1373}{2417} = 0.568$$\n",
    "\n",
    "$PS_{dep}$ indicates that there is 56.8% chance of police score being better than jornalist score for an individual (based on our sample)."
   ]
  },
  {
   "cell_type": "markdown",
   "metadata": {},
   "source": [
    "## Practical significance and Discussion\n",
    "\n",
    "Although we got a highly statistically significant result, the effect size seems to be medium (4 point difference) and it is rather hard to interpret this difference as the feeling score is not a metric. From the effect size estimator $PS_{dep}$ we have 56.8% chance of police score being better than jornalist score for an individual which seems to be significant.\n",
    "\n",
    "Our research question was specifically about respect rather than likeness hence there is **an asymmetry between out research question and the actual question we are trying to answer**."
   ]
  },
  {
   "cell_type": "markdown",
   "metadata": {},
   "source": [
    "## Question 2: Are Republican voters older or younger than Democratic voters?"
   ]
  },
  {
   "cell_type": "markdown",
   "metadata": {},
   "source": [
    "## Introduction\n",
    "\n",
    "To address this question, we need to know two things: 1) what constitutes a \"Republican (Democratic) voter?, and 2) How old are the individuals in these two groups.\n",
    "\n",
    "The first question is the more difficult one to answer. The issue lies in the phrasing of the quesiton, as there are several ways to interpret what a \"Republican voter\" is. Should we use party membership, although that does not neccessarily mean the person votes? Should we count independent voters who lean Repbulican (indicating that they have likely voted for Republicans in the past and will do so again) as Republican voters? \n",
    "\n",
    "For the purposes of this analysis, we have operationalized the question in the following way: we consider a person who \"generally thinks of themselves as a Republican or Democrat\" to be a Republican or Democratic voter. This is not a perfect definition for the reasons stated above, but it gives us the best view of the respective parties voting bases. \n",
    "\n",
    "Accordingly, we use the <b> pid1d and pid1r</b> variables, which is the answer to the question \"Generally speaking, do you consider yourself a Republican, a Democrat...\". These two variables need to be merged into a single table since together they are the full dataset that answers the question posed. We also used the <b> birthyr </b> variable which tells us the year the voter was born."
   ]
  },
  {
   "cell_type": "markdown",
   "metadata": {},
   "source": [
    "## Exploratory data analysis"
   ]
  },
  {
   "cell_type": "code",
   "execution_count": 10,
   "metadata": {
    "scrolled": false
   },
   "outputs": [
    {
     "name": "stderr",
     "output_type": "stream",
     "text": [
      "\n",
      "Attaching package: 'dplyr'\n",
      "\n",
      "The following objects are masked from 'package:stats':\n",
      "\n",
      "    filter, lag\n",
      "\n",
      "The following objects are masked from 'package:base':\n",
      "\n",
      "    intersect, setdiff, setequal, union\n",
      "\n"
     ]
    },
    {
     "name": "stdout",
     "output_type": "stream",
     "text": [
      "[1] \"Rows of data with missing score entry\"\n"
     ]
    },
    {
     "data": {
      "text/html": [
       "<table>\n",
       "<thead><tr><th></th><th scope=col>pid1d</th><th scope=col>pid1r</th><th scope=col>birthyr</th></tr></thead>\n",
       "<tbody>\n",
       "\t<tr><th scope=row>497</th><td>-1  </td><td>-7  </td><td>1993</td></tr>\n",
       "\t<tr><th scope=row>596</th><td>-7  </td><td>-1  </td><td>1953</td></tr>\n",
       "</tbody>\n",
       "</table>\n"
      ],
      "text/latex": [
       "\\begin{tabular}{r|lll}\n",
       "  & pid1d & pid1r & birthyr\\\\\n",
       "\\hline\n",
       "\t497 & -1   & -7   & 1993\\\\\n",
       "\t596 & -7   & -1   & 1953\\\\\n",
       "\\end{tabular}\n"
      ],
      "text/markdown": [
       "\n",
       "| <!--/--> | pid1d | pid1r | birthyr |\n",
       "|---|---|---|---|\n",
       "| 497 | -1   | -7   | 1993 |\n",
       "| 596 | -7   | -1   | 1953 |\n",
       "\n"
      ],
      "text/plain": [
       "    pid1d pid1r birthyr\n",
       "497 -1    -7    1993   \n",
       "596 -7    -1    1953   "
      ]
     },
     "metadata": {},
     "output_type": "display_data"
    },
    {
     "name": "stdout",
     "output_type": "stream",
     "text": [
      "[1] \"Overall Summary of the filtered data\"\n"
     ]
    },
    {
     "data": {
      "text/plain": [
       "     pid1d             pid1r            birthyr    \n",
       " Min.   :-1.0000   Min.   :-1.0000   Min.   :1927  \n",
       " 1st Qu.:-1.0000   1st Qu.:-1.0000   1st Qu.:1956  \n",
       " Median :-1.0000   Median :-1.0000   Median :1966  \n",
       " Mean   : 0.4155   Mean   : 0.4644   Mean   :1969  \n",
       " 3rd Qu.: 2.0000   3rd Qu.: 2.0000   3rd Qu.:1983  \n",
       " Max.   : 4.0000   Max.   : 4.0000   Max.   :2000  "
      ]
     },
     "metadata": {},
     "output_type": "display_data"
    },
    {
     "data": {
      "text/html": [
       "'Number of records (total) : 1466'"
      ],
      "text/latex": [
       "'Number of records (total) : 1466'"
      ],
      "text/markdown": [
       "'Number of records (total) : 1466'"
      ],
      "text/plain": [
       "[1] \"Number of records (total) : 1466\""
      ]
     },
     "metadata": {},
     "output_type": "display_data"
    },
    {
     "data": {
      "text/plain": [
       "   Min. 1st Qu.  Median    Mean 3rd Qu.    Max. \n",
       "  18.00   40.00   55.00   52.86   65.00   90.00 "
      ]
     },
     "metadata": {},
     "output_type": "display_data"
    },
    {
     "data": {
      "text/plain": [
       "   Min. 1st Qu.  Median    Mean 3rd Qu.    Max. \n",
       "  18.00   35.00   53.00   50.23   63.00   91.00 "
      ]
     },
     "metadata": {},
     "output_type": "display_data"
    },
    {
     "data": {
      "image/png": "[encoded data removed]",
      "text/plain": [
       "Plot with title \"Democrat Voters - Age Histogram\""
      ]
     },
     "metadata": {},
     "output_type": "display_data"
    },
    {
     "data": {
      "image/png": "[encoded data removed]",
      "text/plain": [
       "Plot with title \"Republican Voters - Age Histogram\""
      ]
     },
     "metadata": {},
     "output_type": "display_data"
    }
   ],
   "source": [
    "library(dplyr)\n",
    "#if(!require(lsr)){install.packages(\"lsr\")}\n",
    "library(lsr)\n",
    "\n",
    "party <- A[,c('pid1d', 'pid1r','birthyr')]\n",
    "\n",
    "# Respondents that declined to answer the party affliation question\n",
    "print(\"Rows of data with missing score entry\")\n",
    "party[(party$pid1d == -7)|(party$pid1r == -7),]\n",
    "party <- party[!((party$pid1d == -7)|(party$pid1r == -7)),]\n",
    "\n",
    "# Summary of the filtered resulting dataset\n",
    "print(\"Overall Summary of the filtered data\")\n",
    "summary(party)\n",
    "\n",
    "# Tagging the part affliations\n",
    "party$party <- ifelse(party$pid1d == 2 | party$pid1r == 2, 'REPUBLICAN', ifelse(party$pid1d == 1 | party$pid1r == 1, \n",
    "                                                                                'DEMOCRAT', 'O'))\n",
    "\n",
    "# Removing all the data rows representing votes who are neither democrat nor republicans\n",
    "party <- party[party$party != 'O',]\n",
    "\n",
    "# Final dataset size\n",
    "paste(\"Number of records (total) :\", nrow(party))\n",
    "\n",
    "#Create a separate dataset for each party\n",
    "repid <- filter(party, party == 'REPUBLICAN')\n",
    "demid <- filter(party, party == 'DEMOCRAT')\n",
    "\n",
    "#Calculating Age\n",
    "\n",
    "repid$age <- 2018 - repid$birthyr\n",
    "demid$age <- 2018 - demid$birthyr\n",
    "\n",
    "#Summarize each party-specific data set\n",
    "summary(repid$age)\n",
    "summary(demid$age)\n",
    "\n",
    "#Show a histogram of each part-specific dataset\n",
    "hist(demid$age, main='Democrat Voters - Age Histogram', col = 'blue', xlab = 'Voter Age')\n",
    "hist(repid$age, main='Republican Voters - Age Histogram', col = 'red', xlab = 'Voter Age')"
   ]
  },
  {
   "cell_type": "code",
   "execution_count": 12,
   "metadata": {},
   "outputs": [
    {
     "data": {
      "image/png": "[encoded data removed]",
      "text/plain": [
       "Plot with title \"Comparison of respondents ages - Democrat and Republicans\""
      ]
     },
     "metadata": {},
     "output_type": "display_data"
    }
   ],
   "source": [
    "boxplot(demid$age, repid$age, main = \"Comparison of respondents ages - Democrat and Republicans\", at = c(1,2),\n",
    "        names = c(\"Democrat\", \"Republican\"), las = 1, col = c(\"blue\",\"red\"), border = \"brown\", horizontal = F,\n",
    "        notch = TRUE, ylab='Age')"
   ]
  },
  {
   "cell_type": "markdown",
   "metadata": {},
   "source": [
    "#### <i>Basic EDA summary</i>"
   ]
  },
  {
   "cell_type": "markdown",
   "metadata": {},
   "source": [
    "Steps:\n",
    "\n",
    "1) Merge pid1d and pid1r, then create a data frame that only has the responses to the pid1d/pid1r and birth year\n",
    "\n",
    "2) Do a simple summary of the new data frame. The answer to pid1d/pid1r is not meaningful, but the answer to birth year is.\n",
    "\n",
    "3) Break the relevant groups up using a filter command. Here we filter on response 1 (people who identify as Democrats) and 2 (people who identify as Republicans).\n",
    "\n",
    "    a) 1466 of 2500 (~59%) of people responded in one of these two ways\n",
    "    \n",
    "    b) Since the question is restricts the population to necessarily belonging to one of these \n",
    "    two groups, dropping ~41% of responses is appropriate. \n",
    "    \n",
    "4) Do a summary of the two groups\n",
    "\n",
    "5) Show a histogram of the Age of these two groups (with 2018 as the reference year). A brief look at these graphs shows that they have similar meansand the shape of the distributions is also similar. It seems roughly normal and is not skewed."
   ]
  },
  {
   "cell_type": "markdown",
   "metadata": {},
   "source": [
    "## Hypothesis test\n",
    "\n",
    "A simple two-tailed t-test is the most appropriate test in this case. Since we don't have a hypothesis for why one group \"should\" be older than another, we should stick to testing whether the means are different or not.\n",
    "\n",
    "<b>Assumptions of the t-test</b>\n",
    "\n",
    "$1$: Republican and Democratic voter ages are independent. We hold this to be obviously true.\n",
    "\n",
    "$2$: The means of the two populations are approximately normally distributed. We see that this is generally true through the hisotgrams of each variable. On top of that, sample sizes are all > 400 and the data is not skewed in any extreme manner, so we can rely on the Central Limit Theorem to ensure that this assumption holds true.\n",
    "\n",
    "$3$: Age is a metric variable\n",
    "\n",
    "$4$: Variance of the two samples seem similar from the histogram\n",
    "\n",
    "$5$: For this analysis, we are assuming that the sample is random and representative of general US voting population. This is a strong assumption (specially given the concerns of the survey authors) and weights are available to somewhat correct for this. But for this analysis, we will not be using the weights."
   ]
  },
  {
   "cell_type": "markdown",
   "metadata": {},
   "source": [
    "#### Two sided Hypothesis Test"
   ]
  },
  {
   "cell_type": "markdown",
   "metadata": {},
   "source": [
    "$H_0$: There is no difference in birth year between Republican and Democratic voters.\n",
    "\n",
    "$H_A$: There is a difference in birth year between Republican and Democratic voters."
   ]
  },
  {
   "cell_type": "markdown",
   "metadata": {},
   "source": [
    "#### Significance Level"
   ]
  },
  {
   "cell_type": "markdown",
   "metadata": {},
   "source": [
    "We will perform this test to a <b>99% confidence level</b>."
   ]
  },
  {
   "cell_type": "markdown",
   "metadata": {},
   "source": [
    "#### Follow up One-sided Hypothesis Test"
   ]
  },
  {
   "cell_type": "markdown",
   "metadata": {},
   "source": [
    "**If** we reject the null hypothesis based on the two-tailed t test, we will follow up with a one-tailed t-test in the direction that we suspect there is a difference. Based on an initial look at the historgrams, we suspect that Republicans are older than Democrats, so we may find it useful to run a subsequent one-sided test to see if the mean age of Republicans is older than that of Democrats."
   ]
  },
  {
   "cell_type": "markdown",
   "metadata": {},
   "source": [
    "$H_0$: There is no difference in age between Republican and Democratic voters.\n",
    "\n",
    "$H_A$: The mean age of Democratic voters is less than the mean age of Republican voters."
   ]
  },
  {
   "cell_type": "code",
   "execution_count": 13,
   "metadata": {},
   "outputs": [
    {
     "data": {
      "text/plain": [
       "\n",
       "\tWelch Two Sample t-test\n",
       "\n",
       "data:  demid$age and repid$age\n",
       "t = -2.939, df = 1309.7, p-value = 0.00335\n",
       "alternative hypothesis: true difference in means is not equal to 0\n",
       "99 percent confidence interval:\n",
       " -4.9235927 -0.3206645\n",
       "sample estimates:\n",
       "mean of x mean of y \n",
       " 50.23337  52.85550 \n"
      ]
     },
     "metadata": {},
     "output_type": "display_data"
    },
    {
     "data": {
      "text/html": [
       "<span style=white-space:pre-wrap>'Cohen\\'s D :  0.15575500851897'</span>"
      ],
      "text/latex": [
       "'Cohen\\textbackslash{}'s D :  0.15575500851897'"
      ],
      "text/markdown": [
       "<span style=white-space:pre-wrap>'Cohen\\'s D :  0.15575500851897'</span>"
      ],
      "text/plain": [
       "[1] \"Cohen's D :  0.15575500851897\""
      ]
     },
     "metadata": {},
     "output_type": "display_data"
    },
    {
     "data": {
      "text/plain": [
       "\n",
       "\tWelch Two Sample t-test\n",
       "\n",
       "data:  demid$age and repid$age\n",
       "t = -2.939, df = 1309.7, p-value = 0.001675\n",
       "alternative hypothesis: true difference in means is less than 0\n",
       "99 percent confidence interval:\n",
       "      -Inf -0.544058\n",
       "sample estimates:\n",
       "mean of x mean of y \n",
       " 50.23337  52.85550 \n"
      ]
     },
     "metadata": {},
     "output_type": "display_data"
    }
   ],
   "source": [
    "#Conduct a two-tailed test to a 99% confidence level\n",
    "t.test(demid$age, repid$age, conf.level = .99)\n",
    "\n",
    "#Cohen's D to assess practical significance of the result\n",
    "paste(\"Cohen's D : \",cohensD(demid$age, repid$age))\n",
    "\n",
    "#Follow up with a one-tailed test to determine if Republicans are older than Dems, to a 99% conf level\n",
    "t.test(demid$age, repid$age, alternative = \"less\", conf.level = .99)"
   ]
  },
  {
   "cell_type": "markdown",
   "metadata": {},
   "source": [
    "#### Explanation of Results"
   ]
  },
  {
   "cell_type": "markdown",
   "metadata": {},
   "source": [
    "<b>We reject the null hypothesis</b>, with a p-value of 0.00335 at 99% confidence level. This means that there is a statistically significant difference in the means of the birth year's of the Republican and Democratic sample voters.\n",
    "\n",
    "We also found a  low practical significance (Cohen's D = 0.1558). This means that while the difference is real, it is not a hugely significant feature of the two groups. This is not surprising based even on a quick look at the histrograms in the EDA section.\n",
    "\n",
    "We then ran a one-sided t-test, where we reject the null hypothesis (at 99% confodence level) in favor of the alternative hypothesis that Democratic voter's mean age is less than that of Republican voters. Here, our p-value was .00168.\n",
    "\n",
    "In conclusion, based on this data, we can say  that Republican voters are older than Democratic voters on average. However, the effect size is small. "
   ]
  },
  {
   "cell_type": "markdown",
   "metadata": {},
   "source": [
    "## Question 3 Do a majority of independent voters believe that the federal investigations of Russian election interference are baseless?"
   ]
  },
  {
   "cell_type": "markdown",
   "metadata": {},
   "source": [
    "### Introduce your topic briefly.  (5 points)"
   ]
  },
  {
   "cell_type": "markdown",
   "metadata": {},
   "source": [
    "#### Topic Introduction\n",
    "\n",
    "We shall attempt to answer the question , do a majority of independent voters believe that the federal investigations of Russian election interference are baseless.\n",
    "\n",
    "We shall use variable pid1d and pid1r to identify the independent voters i.e. we shall only get voters who indicated that they are independent = 3 in either of these fields.\n",
    "\n",
    "We shall use the field muellerinv to get identify voters sentiment on federal investigations of Russian election interference esp for this question we shall focus on proportion of voters who selected 7 : Disapprove extremely strongly as response to this survey question."
   ]
  },
  {
   "cell_type": "markdown",
   "metadata": {},
   "source": [
    "### Perform an exploratory data analysis (EDA) of the relevant variables. (5 points)"
   ]
  },
  {
   "cell_type": "code",
   "execution_count": 14,
   "metadata": {},
   "outputs": [
    {
     "name": "stdout",
     "output_type": "stream",
     "text": [
      "[1] \"Unique Values of pid1d field :\"\n"
     ]
    },
    {
     "data": {
      "text/html": [
       "<ol class=list-inline>\n",
       "\t<li>2</li>\n",
       "\t<li>-1</li>\n",
       "\t<li>3</li>\n",
       "\t<li>1</li>\n",
       "\t<li>4</li>\n",
       "\t<li>-7</li>\n",
       "</ol>\n"
      ],
      "text/latex": [
       "\\begin{enumerate*}\n",
       "\\item 2\n",
       "\\item -1\n",
       "\\item 3\n",
       "\\item 1\n",
       "\\item 4\n",
       "\\item -7\n",
       "\\end{enumerate*}\n"
      ],
      "text/markdown": [
       "1. 2\n",
       "2. -1\n",
       "3. 3\n",
       "4. 1\n",
       "5. 4\n",
       "6. -7\n",
       "\n",
       "\n"
      ],
      "text/plain": [
       "[1]  2 -1  3  1  4 -7"
      ]
     },
     "metadata": {},
     "output_type": "display_data"
    },
    {
     "name": "stdout",
     "output_type": "stream",
     "text": [
      "[1] \"Unique Values of pid1r field :\"\n"
     ]
    },
    {
     "data": {
      "text/html": [
       "<ol class=list-inline>\n",
       "\t<li>-1</li>\n",
       "\t<li>2</li>\n",
       "\t<li>3</li>\n",
       "\t<li>1</li>\n",
       "\t<li>4</li>\n",
       "\t<li>-7</li>\n",
       "</ol>\n"
      ],
      "text/latex": [
       "\\begin{enumerate*}\n",
       "\\item -1\n",
       "\\item 2\n",
       "\\item 3\n",
       "\\item 1\n",
       "\\item 4\n",
       "\\item -7\n",
       "\\end{enumerate*}\n"
      ],
      "text/markdown": [
       "1. -1\n",
       "2. 2\n",
       "3. 3\n",
       "4. 1\n",
       "5. 4\n",
       "6. -7\n",
       "\n",
       "\n"
      ],
      "text/plain": [
       "[1] -1  2  3  1  4 -7"
      ]
     },
     "metadata": {},
     "output_type": "display_data"
    },
    {
     "name": "stdout",
     "output_type": "stream",
     "text": [
      "[1] \"Unique Values of muellerinv field :\"\n"
     ]
    },
    {
     "data": {
      "text/html": [
       "<ol class=list-inline>\n",
       "\t<li>4</li>\n",
       "\t<li>1</li>\n",
       "\t<li>5</li>\n",
       "\t<li>2</li>\n",
       "\t<li>7</li>\n",
       "\t<li>3</li>\n",
       "\t<li>6</li>\n",
       "\t<li>-7</li>\n",
       "</ol>\n"
      ],
      "text/latex": [
       "\\begin{enumerate*}\n",
       "\\item 4\n",
       "\\item 1\n",
       "\\item 5\n",
       "\\item 2\n",
       "\\item 7\n",
       "\\item 3\n",
       "\\item 6\n",
       "\\item -7\n",
       "\\end{enumerate*}\n"
      ],
      "text/markdown": [
       "1. 4\n",
       "2. 1\n",
       "3. 5\n",
       "4. 2\n",
       "5. 7\n",
       "6. 3\n",
       "7. 6\n",
       "8. -7\n",
       "\n",
       "\n"
      ],
      "text/plain": [
       "[1]  4  1  5  2  7  3  6 -7"
      ]
     },
     "metadata": {},
     "output_type": "display_data"
    },
    {
     "name": "stdout",
     "output_type": "stream",
     "text": [
      "[1] \"Summary of Independent Voters :\"\n"
     ]
    },
    {
     "data": {
      "text/plain": [
       "     pid1d             pid1r          muellerinv   \n",
       " Min.   :-1.0000   Min.   :-1.000   Min.   :1.000  \n",
       " 1st Qu.:-1.0000   1st Qu.:-1.000   1st Qu.:1.000  \n",
       " Median :-1.0000   Median : 3.000   Median :4.000  \n",
       " Mean   : 0.8566   Mean   : 1.143   Mean   :3.619  \n",
       " 3rd Qu.: 3.0000   3rd Qu.: 3.000   3rd Qu.:5.000  \n",
       " Max.   : 3.0000   Max.   : 3.000   Max.   :7.000  "
      ]
     },
     "metadata": {},
     "output_type": "display_data"
    },
    {
     "data": {
      "text/html": [
       "<span style=white-space:pre-wrap>'Number of Independent Voters :  767'</span>"
      ],
      "text/latex": [
       "'Number of Independent Voters :  767'"
      ],
      "text/markdown": [
       "<span style=white-space:pre-wrap>'Number of Independent Voters :  767'</span>"
      ],
      "text/plain": [
       "[1] \"Number of Independent Voters :  767\""
      ]
     },
     "metadata": {},
     "output_type": "display_data"
    }
   ],
   "source": [
    "# get all voters\n",
    "voters <- A[,c('pid1d', 'pid1r','muellerinv')]\n",
    "#review unique values of pid1d field\n",
    "print(\"Unique Values of pid1d field :\")\n",
    "unique(voters$pid1d)\n",
    "#review unique values of pid1r field\n",
    "print(\"Unique Values of pid1r field :\")\n",
    "unique(voters$pid1r)\n",
    "#review unique values of muellerinv field\n",
    "print(\"Unique Values of muellerinv field :\")\n",
    "unique(voters$muellerinv)\n",
    "\n",
    "# only get voters who indicated that they are independent = 3\n",
    "indpVoters <- voters[(voters$pid1d == 3)|(voters$pid1r == 3),]\n",
    "print(\"Summary of Independent Voters :\")\n",
    "summary(indpVoters)\n",
    "paste(\"Number of Independent Voters : \", nrow(indpVoters))"
   ]
  },
  {
   "cell_type": "code",
   "execution_count": 15,
   "metadata": {},
   "outputs": [
    {
     "data": {
      "image/png": "[encoded data removed]",
      "text/plain": [
       "Plot with title \"Investigation of Russian interference in the 2016 election\""
      ]
     },
     "metadata": {},
     "output_type": "display_data"
    }
   ],
   "source": [
    "histVal <- hist(indpVoters$muellerinv, main='', col='blue',\n",
    "          xlab = \"Investigation Feedback  1- Strongly Approve  7- Strongly Disapprove\",\n",
    "          ylab =\"Number of Independent Voters\" )\n",
    "text(histVal$mids,histVal$counts,labels=histVal$counts, adj=c(0.5, -0.5))\n",
    "title('Investigation of Russian interference in the 2016 election', line=1, adj=0.5)"
   ]
  },
  {
   "cell_type": "markdown",
   "metadata": {},
   "source": [
    "### Based on your EDA, select an appropriate hypothesis test.  (5 points)"
   ]
  },
  {
   "cell_type": "markdown",
   "metadata": {},
   "source": [
    "#### Hypothesis Testing \n",
    "\n",
    "We shall use two sided proportion test to access sentiment of independent voters at significance level =0.05. \n",
    "\n",
    "**Null Hypothesis $H_0$**: Independent voters niether approve nor disapprove of federal investigations of Russian election interference i.e. proportion of voters who strongly disapprove = 0.5\n",
    "\n",
    "**Alternate Hypothesis $H_A$**: prop of voters who strongly disapprove != 0.5\n",
    "\n",
    "\n",
    "The key conditions for this test are:\n",
    "\n",
    "1. Random sample - we can assume this is met as survey respondedents are random voters who elect to take YouGov survey.\n",
    "   \n",
    "\n",
    "2. The sample is Independent and identically distributed  - which is true as these are voters who elect to take YouGov survey\n",
    "   and are not related to each other esp. in some extreme cases when members of same family might be takign survey\n",
    "   even in this condition their responses would be deemed independent.\n",
    "\n",
    "\n",
    "3. Sample size restrictions - number of independent voters who stronly disapprove and \n",
    "   do not disapprove should be greater than 10\n",
    "     \n",
    "      a) number  of independent voters who strongly disapprove > 10 ( exact value : 139)\n",
    "      \n",
    "      b) number of independent voters who do not strongly disapprove > 10 ( exact value : 767 - 139 = 628)"
   ]
  },
  {
   "cell_type": "markdown",
   "metadata": {},
   "source": [
    "### Conduct your test. (5 points)"
   ]
  },
  {
   "cell_type": "code",
   "execution_count": 17,
   "metadata": {},
   "outputs": [
    {
     "data": {
      "text/plain": [
       "   Mode   FALSE    TRUE \n",
       "logical     628     139 "
      ]
     },
     "metadata": {},
     "output_type": "display_data"
    },
    {
     "data": {
      "text/html": [
       "<span style=white-space:pre-wrap>'Voters who disapprove :  139'</span>"
      ],
      "text/latex": [
       "'Voters who disapprove :  139'"
      ],
      "text/markdown": [
       "<span style=white-space:pre-wrap>'Voters who disapprove :  139'</span>"
      ],
      "text/plain": [
       "[1] \"Voters who disapprove :  139\""
      ]
     },
     "metadata": {},
     "output_type": "display_data"
    },
    {
     "data": {
      "text/html": [
       "<span style=white-space:pre-wrap>'Total Number of Voters :  767'</span>"
      ],
      "text/latex": [
       "'Total Number of Voters :  767'"
      ],
      "text/markdown": [
       "<span style=white-space:pre-wrap>'Total Number of Voters :  767'</span>"
      ],
      "text/plain": [
       "[1] \"Total Number of Voters :  767\""
      ]
     },
     "metadata": {},
     "output_type": "display_data"
    },
    {
     "data": {
      "text/plain": [
       "\n",
       "\t1-sample proportions test with continuity correction\n",
       "\n",
       "data:  votersWhoDisapprove out of totalVoters, null probability 0.5\n",
       "X-squared = 310.49, df = 1, p-value < 2.2e-16\n",
       "alternative hypothesis: true p is not equal to 0.5\n",
       "95 percent confidence interval:\n",
       " 0.1549640 0.2107399\n",
       "sample estimates:\n",
       "        p \n",
       "0.1812256 \n"
      ]
     },
     "metadata": {},
     "output_type": "display_data"
    }
   ],
   "source": [
    "# count of number of voters who strongly disapprove of federal investigations of Russian election interference\n",
    "dispVoters <- indpVoters$muellerinv == \"7\"\n",
    "summary(dispVoters)\n",
    "\n",
    "votersWhoDisapprove = sum(dispVoters)\n",
    "totalVoters = nrow(indpVoters)\n",
    "\n",
    "paste(\"Voters who disapprove : \", votersWhoDisapprove)\n",
    "paste(\"Total Number of Voters : \", totalVoters)\n",
    "\n",
    "prop.test(x = votersWhoDisapprove, n= totalVoters,\n",
    "          conf.level = 0.95, alternative = 'two.sided')"
   ]
  },
  {
   "cell_type": "markdown",
   "metadata": {},
   "source": [
    "#### Result Interpretation\n",
    "\n",
    "Since p-value (2.2e-16) < significance level (0.05) hence we  reject the null hypothesis.\n",
    "\n",
    "The results are staitically significant.\n",
    "\n",
    "Also since 0.5 does not lie in the confidence interval hence we shall conduct a new  \n",
    "less than one sided proportion test with significance level of 0.05  \n",
    "\n",
    "**Null Hypothesis $H1_0$**: \n",
    "   Independent voters niether approve nor disapprove of federal investigations of Russian election interference\n",
    "   i.e. prop of voters who disapprove =0.5\n",
    "\n",
    "**Alternate Hypothesis $H1_A$**: \n",
    "   prop of voters who disapprove of federal investigations of Russian election interference < 0.5"
   ]
  },
  {
   "cell_type": "code",
   "execution_count": 18,
   "metadata": {},
   "outputs": [
    {
     "data": {
      "text/plain": [
       "\n",
       "\t1-sample proportions test without continuity correction\n",
       "\n",
       "data:  votersWhoDisapprove out of totalVoters, null probability 0.5\n",
       "X-squared = 311.76, df = 1, p-value < 2.2e-16\n",
       "alternative hypothesis: true p is less than 0.5\n",
       "95 percent confidence interval:\n",
       " 0.0000000 0.2052115\n",
       "sample estimates:\n",
       "        p \n",
       "0.1812256 \n"
      ]
     },
     "metadata": {},
     "output_type": "display_data"
    }
   ],
   "source": [
    "prop.test(x = votersWhoDisapprove, n= totalVoters,\n",
    "          conf.level = 0.95,alternative = 'less', correct=F)"
   ]
  },
  {
   "cell_type": "markdown",
   "metadata": {},
   "source": [
    "#### Final Results\n",
    "Since p-value (2.2e-16) < significance level (0.05) hence we  reject the null hypothesis in favor of alternate hypothesis.\n",
    "\n",
    "Majority of Independent voters do not think that federal investigations of Russian election interference is baseless."
   ]
  },
  {
   "cell_type": "markdown",
   "metadata": {},
   "source": [
    "#### using cohen h to measure effect size \n",
    "\n",
    "h = 0.20: \"small effect size\"\n",
    "h = 0.50: \"medium effect size\"\n",
    "h = 0.80: \"large effect size\"\n",
    "\n",
    "Details Available At:\n",
    "https://en.wikipedia.org/wiki/Cohen%27s_h"
   ]
  },
  {
   "cell_type": "code",
   "execution_count": 19,
   "metadata": {},
   "outputs": [
    {
     "data": {
      "text/html": [
       "<span style=white-space:pre-wrap>'Proportion of Voters Who Disapprove :  0.18122555410691'</span>"
      ],
      "text/latex": [
       "'Proportion of Voters Who Disapprove :  0.18122555410691'"
      ],
      "text/markdown": [
       "<span style=white-space:pre-wrap>'Proportion of Voters Who Disapprove :  0.18122555410691'</span>"
      ],
      "text/plain": [
       "[1] \"Proportion of Voters Who Disapprove :  0.18122555410691\""
      ]
     },
     "metadata": {},
     "output_type": "display_data"
    },
    {
     "data": {
      "text/html": [
       "<span style=white-space:pre-wrap>'Proportion of Voters Who Approve :  0.81877444589309'</span>"
      ],
      "text/latex": [
       "'Proportion of Voters Who Approve :  0.81877444589309'"
      ],
      "text/markdown": [
       "<span style=white-space:pre-wrap>'Proportion of Voters Who Approve :  0.81877444589309'</span>"
      ],
      "text/plain": [
       "[1] \"Proportion of Voters Who Approve :  0.81877444589309\""
      ]
     },
     "metadata": {},
     "output_type": "display_data"
    },
    {
     "data": {
      "text/html": [
       "<span style=white-space:pre-wrap>'Cohen H :  1.38262499410043'</span>"
      ],
      "text/latex": [
       "'Cohen H :  1.38262499410043'"
      ],
      "text/markdown": [
       "<span style=white-space:pre-wrap>'Cohen H :  1.38262499410043'</span>"
      ],
      "text/plain": [
       "[1] \"Cohen H :  1.38262499410043\""
      ]
     },
     "metadata": {},
     "output_type": "display_data"
    }
   ],
   "source": [
    "# cohen h function\n",
    "propVotersWhoDisapprove <- votersWhoDisapprove/totalVoters\n",
    "paste(\"Proportion of Voters Who Disapprove : \" , propVotersWhoDisapprove)\n",
    "propVotersWhoApprove <- (totalVoters - votersWhoDisapprove)/totalVoters\n",
    "paste(\"Proportion of Voters Who Approve : \" , propVotersWhoApprove)\n",
    "cohenH <- 2*(asin(sqrt(propVotersWhoApprove)) - asin(sqrt(propVotersWhoDisapprove)))\n",
    "paste(\"Cohen H : \" , cohenH)"
   ]
  },
  {
   "cell_type": "markdown",
   "metadata": {},
   "source": [
    "Since value of cohenH > 0.8 hence results have large effect size and is practically significant."
   ]
  },
  {
   "cell_type": "markdown",
   "metadata": {},
   "source": [
    "## Question 4 :Was anger or fear more effective at driving increases in voter turnout from 2016 to 2018?"
   ]
  },
  {
   "cell_type": "markdown",
   "metadata": {},
   "source": [
    "## Topic Introduction\n",
    "\n",
    "We shall attempt to answer the question , was anger or fear more effective at driving increases in voter turnout from 2016 to 2018. We shall use variable turnout16 to identify voters who definelty voted in 2016.  We shall use variable turnout18 to identify voters who definelty voted in 2018. \n",
    "\n",
    "To determine increase in number of voter turnout from 2016 to 2018, we shall choose value of turnout16 != 1 i.e. did not vote or probably didn't vote in 2016 and turnout18 values of  1, 2 or 3 i.e. definelty voted in 2018. We shall use the field geangry to access voter sentiment on anger. We shall use the field geafraid to access voter sentiment on fear. "
   ]
  },
  {
   "cell_type": "markdown",
   "metadata": {},
   "source": [
    "## Exploratory data analysis"
   ]
  },
  {
   "cell_type": "code",
   "execution_count": 20,
   "metadata": {},
   "outputs": [
    {
     "data": {
      "image/png": "[encoded data removed]",
      "text/plain": [
       "Plot with title \"2016 Turnout\""
      ]
     },
     "metadata": {},
     "output_type": "display_data"
    },
    {
     "data": {
      "image/png": "[encoded data removed]",
      "text/plain": [
       "Plot with title \"2018 Turnout\""
      ]
     },
     "metadata": {},
     "output_type": "display_data"
    }
   ],
   "source": [
    "angerFearAnalysis <- A[,c('turnout16', 'turnout18','geangry' , 'geafraid')]\n",
    "\n",
    "# Visual analysis of this data set , before filtering for voters who voted both in 2016 and 2018\n",
    "\n",
    "x <- hist(angerFearAnalysis$turnout16, main='', col='lightblue', \n",
    "          xlab = \"Voted in 2016 - 1 : Yes   2 : No    3: Not Sure\",\n",
    "          ylab = \"Number of Voters\",\n",
    "          xlim=c(1,3)\n",
    "         )\n",
    "text(x$mids,x$counts,labels=x$counts, adj=c(0.8, -0.8))\n",
    "title('2016 Turnout', line=1, adj=0.5)\n",
    "\n",
    "y <- hist(angerFearAnalysis$turnout18, main='', col='lightblue', \n",
    "         xlab = \"Voted in 2018 - 1,2 and 3 : Yes   4 : No    5: Not Sure\",\n",
    "         ylab = \"Number of Voters\",\n",
    "         xlim=c(1,5)\n",
    "         )\n",
    "text(y$mids,y$counts,labels=y$counts, adj=c(0.5, -0.5))\n",
    "title('2018 Turnout', line=1, adj=0.5)"
   ]
  },
  {
   "cell_type": "code",
   "execution_count": 21,
   "metadata": {},
   "outputs": [
    {
     "data": {
      "text/plain": [
       "   turnout16       turnout18        geangry         geafraid     \n",
       " Min.   :1.000   Min.   :1.000   Min.   :-7.00   Min.   :-7.000  \n",
       " 1st Qu.:1.000   1st Qu.:1.000   1st Qu.: 2.00   1st Qu.: 2.000  \n",
       " Median :1.000   Median :2.000   Median : 3.00   Median : 3.000  \n",
       " Mean   :1.306   Mean   :2.392   Mean   : 2.93   Mean   : 2.662  \n",
       " 3rd Qu.:2.000   3rd Qu.:4.000   3rd Qu.: 4.00   3rd Qu.: 4.000  \n",
       " Max.   :3.000   Max.   :5.000   Max.   : 5.00   Max.   : 5.000  "
      ]
     },
     "metadata": {},
     "output_type": "display_data"
    },
    {
     "name": "stdout",
     "output_type": "stream",
     "text": [
      "[1] \"Total Number of Voters :\"\n"
     ]
    },
    {
     "data": {
      "text/html": [
       "'2500'"
      ],
      "text/latex": [
       "'2500'"
      ],
      "text/markdown": [
       "'2500'"
      ],
      "text/plain": [
       "[1] \"2500\""
      ]
     },
     "metadata": {},
     "output_type": "display_data"
    }
   ],
   "source": [
    "summary(angerFearAnalysis)\n",
    "print(\"Total Number of Voters :\")\n",
    "paste(nrow(angerFearAnalysis))"
   ]
  },
  {
   "cell_type": "code",
   "execution_count": 22,
   "metadata": {},
   "outputs": [
    {
     "data": {
      "text/plain": [
       "   turnout16       turnout18       geangry          geafraid     \n",
       " Min.   :2.000   Min.   :1.00   Min.   :-7.000   Min.   :-7.000  \n",
       " 1st Qu.:2.000   1st Qu.:1.00   1st Qu.: 2.000   1st Qu.: 2.000  \n",
       " Median :2.000   Median :1.00   Median : 3.000   Median : 3.000  \n",
       " Mean   :2.147   Mean   :1.75   Mean   : 2.793   Mean   : 2.603  \n",
       " 3rd Qu.:2.000   3rd Qu.:3.00   3rd Qu.: 4.000   3rd Qu.: 4.000  \n",
       " Max.   :3.000   Max.   :3.00   Max.   : 5.000   Max.   : 5.000  "
      ]
     },
     "metadata": {},
     "output_type": "display_data"
    },
    {
     "name": "stdout",
     "output_type": "stream",
     "text": [
      "[1] \"Increase In Number of Voters from 2016 to 2018:\"\n"
     ]
    },
    {
     "data": {
      "text/html": [
       "'Total number of respondents: 116'"
      ],
      "text/latex": [
       "'Total number of respondents: 116'"
      ],
      "text/markdown": [
       "'Total number of respondents: 116'"
      ],
      "text/plain": [
       "[1] \"Total number of respondents: 116\""
      ]
     },
     "metadata": {},
     "output_type": "display_data"
    }
   ],
   "source": [
    "# get voters who indiacted they did not vote in 2016 i.e. turnout16 !=1\n",
    "# and who indicated they definetly voted in 2018 i.e. turnout18 should be 1 ,2 or 3\n",
    "# this will gove the data set needed for anger and fear sentiment analysis\n",
    "\n",
    "angerFearAnalysis <- angerFearAnalysis[(    \n",
    "                                           (angerFearAnalysis['turnout16'] != 1) & \n",
    "                                           (angerFearAnalysis['turnout18'] < 4)\n",
    "\n",
    "                                       ),]\n",
    "\n",
    "\n",
    "\n",
    "summary(angerFearAnalysis)\n",
    "print(\"Increase In Number of Voters from 2016 to 2018:\")\n",
    "paste(\"Total number of respondents:\",nrow(angerFearAnalysis))"
   ]
  },
  {
   "cell_type": "code",
   "execution_count": 29,
   "metadata": {
    "scrolled": false
   },
   "outputs": [
    {
     "name": "stdout",
     "output_type": "stream",
     "text": [
      "[1] \"Increase In Number of Voters from 2016 to 2018:\"\n"
     ]
    },
    {
     "data": {
      "text/html": [
       "'113'"
      ],
      "text/latex": [
       "'113'"
      ],
      "text/markdown": [
       "'113'"
      ],
      "text/plain": [
       "[1] \"113\""
      ]
     },
     "metadata": {},
     "output_type": "display_data"
    },
    {
     "name": "stdout",
     "output_type": "stream",
     "text": [
      "[1] \"Unique Values of Afraid\"\n"
     ]
    },
    {
     "data": {
      "text/html": [
       "<ol class=list-inline>\n",
       "\t<li>2</li>\n",
       "\t<li>4</li>\n",
       "\t<li>3</li>\n",
       "\t<li>5</li>\n",
       "\t<li>1</li>\n",
       "</ol>\n"
      ],
      "text/latex": [
       "\\begin{enumerate*}\n",
       "\\item 2\n",
       "\\item 4\n",
       "\\item 3\n",
       "\\item 5\n",
       "\\item 1\n",
       "\\end{enumerate*}\n"
      ],
      "text/markdown": [
       "1. 2\n",
       "2. 4\n",
       "3. 3\n",
       "4. 5\n",
       "5. 1\n",
       "\n",
       "\n"
      ],
      "text/plain": [
       "[1] 2 4 3 5 1"
      ]
     },
     "metadata": {},
     "output_type": "display_data"
    },
    {
     "name": "stdout",
     "output_type": "stream",
     "text": [
      "[1] \"Unique Values of Angry\"\n"
     ]
    },
    {
     "data": {
      "text/html": [
       "<ol class=list-inline>\n",
       "\t<li>2</li>\n",
       "\t<li>4</li>\n",
       "\t<li>1</li>\n",
       "\t<li>3</li>\n",
       "\t<li>5</li>\n",
       "</ol>\n"
      ],
      "text/latex": [
       "\\begin{enumerate*}\n",
       "\\item 2\n",
       "\\item 4\n",
       "\\item 1\n",
       "\\item 3\n",
       "\\item 5\n",
       "\\end{enumerate*}\n"
      ],
      "text/markdown": [
       "1. 2\n",
       "2. 4\n",
       "3. 1\n",
       "4. 3\n",
       "5. 5\n",
       "\n",
       "\n"
      ],
      "text/plain": [
       "[1] 2 4 1 3 5"
      ]
     },
     "metadata": {},
     "output_type": "display_data"
    },
    {
     "data": {
      "image/png": "[encoded data removed]",
      "text/plain": [
       "Plot with title \"How Angry does the voter feel?\""
      ]
     },
     "metadata": {},
     "output_type": "display_data"
    },
    {
     "data": {
      "image/png": "[encoded data removed]",
      "text/plain": [
       "Plot with title \"How Afraid does the voter feel?\""
      ]
     },
     "metadata": {},
     "output_type": "display_data"
    }
   ],
   "source": [
    "# Remove the rows from this filtered list where voters did not answer either angry or afraid question which is ndicated by -7\n",
    "angerFearAnalysis <- angerFearAnalysis[(    \n",
    "                                           (angerFearAnalysis['geafraid'] != -7) & \n",
    "                                           (angerFearAnalysis['geangry'] != -7)\n",
    "\n",
    "                                       ),]\n",
    "\n",
    "\n",
    "print(\"Increase In Number of Voters from 2016 to 2018:\")\n",
    "paste(nrow(angerFearAnalysis))\n",
    "\n",
    "# View unique value of Afraid to access if there are any issues with data.\n",
    "print (\"Unique Values of Afraid\")\n",
    "unique(angerFearAnalysis$geafraid)\n",
    "\n",
    "# View unique value of Angry to access if there are any issues with data.\n",
    "print (\"Unique Values of Angry\")\n",
    "unique(angerFearAnalysis$geangry)\n",
    "\n",
    "\n",
    "anger <- hist(angerFearAnalysis$geangry, main='', col='lightblue', \n",
    "              xlab = \"Anger Rating 5 : Extremely and 1 Not at all\",\n",
    "              ylab = \"Number of Voters\",\n",
    "              xlim=c(0,6)\n",
    "         )\n",
    "text(anger$mids,anger$counts,labels=anger$counts, adj=c(0.5, -0.5))\n",
    "title('How Angry does the voter feel?', line=1.5, adj=0.5)\n",
    "\n",
    "afraid <- hist(angerFearAnalysis$geafraid, main='', col='lightblue', \n",
    "               xlab = \"Afraid Rating 5 : Extremely and 1 Not at all\",\n",
    "               ylab = \"Number of Voters\",\n",
    "               xlim=c(0,6)\n",
    "         )\n",
    "text(afraid$mids,afraid$counts,labels=afraid$counts, adj=c(0.5, -0.5))\n",
    "title('How Afraid does the voter feel?', line=1, adj=0.5)"
   ]
  },
  {
   "cell_type": "code",
   "execution_count": 30,
   "metadata": {},
   "outputs": [
    {
     "data": {
      "image/png": "[encoded data removed]",
      "text/plain": [
       "Plot with title \"Comparision of respondents feeling - Afraid Vs Angry\""
      ]
     },
     "metadata": {},
     "output_type": "display_data"
    }
   ],
   "source": [
    "# Box-plots\n",
    "boxplot(angerFearAnalysis$geafraid, angerFearAnalysis$geangry,\n",
    "        main = \"Comparision of respondents feeling - Afraid Vs Angry\", at = c(1,2),\n",
    "        names = c(\"Afraid\", \"Angry\"), las = 1, col = c(\"orange\",\"red\"), border = \"brown\", horizontal = T,\n",
    "        notch = TRUE)"
   ]
  },
  {
   "cell_type": "markdown",
   "metadata": {},
   "source": [
    "There does not seem to be much difference in median value based on above chart, though anger seem to be slightly higher."
   ]
  },
  {
   "cell_type": "code",
   "execution_count": 31,
   "metadata": {},
   "outputs": [
    {
     "data": {
      "image/png": "[encoded data removed]",
      "text/plain": [
       "Plot with title \"Scatterplot - Afraid and Angry scores\""
      ]
     },
     "metadata": {},
     "output_type": "display_data"
    }
   ],
   "source": [
    "# Correlation analysis\n",
    "plot(jitter(angerFearAnalysis$geafraid), jitter(angerFearAnalysis$geangry), main=\"Scatterplot - Afraid and Angry scores\",\n",
    "     xlab=\"Afraid - Score\", ylab=\"Angry - Score\", pch=20, col='red')"
   ]
  },
  {
   "cell_type": "markdown",
   "metadata": {},
   "source": [
    "There does not seem to be correlation in the data"
   ]
  },
  {
   "cell_type": "markdown",
   "metadata": {},
   "source": [
    "### Based on your EDA, select an appropriate hypothesis test.  (5 points)"
   ]
  },
  {
   "cell_type": "markdown",
   "metadata": {},
   "source": [
    "#### Hypothesis Testing\n",
    "\n",
    "We shall Sign Test for the **paired samples** of anger and afraid survey questions as we have ordinal variables in form of anger sentiment and fear sentiment coming from the same respondent.\n",
    "\n",
    "Assumptions of the Sign Test are : \n",
    "\n",
    "1. Differences in anger and fear ratings **across respondents** is independent. As per above discussion, we are assuming this condition to be satisfied\n",
    "2. The ratings for fear and anger are ordinal (which is obviously true)\n",
    "3. All the differences are sampled from the same population (which is what we are assuming to be true)\n",
    "\n",
    "\n",
    "**Null Hypothesis: $H_0$**: There is no difference between medians of anger sentiment and fear sentiment for voters who did not vote in 2016 but did in 2018. i.e. median of diff = 0\n",
    "\n",
    "**Alternate Hypethesis: $H_A$**: There is difference between medians of anger sentiment and fear sentiment for voters who did not vote in 2016 but did in 2018. i.e. median of diff $\\ne$ 0\n",
    "\n",
    "**Significance Level** = 0.05"
   ]
  },
  {
   "cell_type": "markdown",
   "metadata": {},
   "source": [
    "### Conduct your test. (5 points)"
   ]
  },
  {
   "cell_type": "code",
   "execution_count": 32,
   "metadata": {},
   "outputs": [
    {
     "data": {
      "text/plain": [
       "\n",
       "\tDependent-samples Sign-Test\n",
       "\n",
       "data:  angerFearAnalysis$geafraid and angerFearAnalysis$geangry\n",
       "S = 29, p-value = 1\n",
       "alternative hypothesis: true median difference is not equal to 0\n",
       "99 percent confidence interval:\n",
       " 0 0\n",
       "sample estimates:\n",
       "median of x-y \n",
       "            0 \n",
       "\n",
       "Achieved and Interpolated Confidence Intervals: \n",
       "\n",
       "                  Conf.Level L.E.pt U.E.pt\n",
       "Lower Achieved CI     0.9859      0      0\n",
       "Interpolated CI       0.9900      0      0\n",
       "Upper Achieved CI     0.9919      0      0\n"
      ]
     },
     "metadata": {},
     "output_type": "display_data"
    }
   ],
   "source": [
    "SIGN.test(angerFearAnalysis$geafraid, angerFearAnalysis$geangry, md=0, conf.level = 0.99, alternative = 'two.sided')"
   ]
  },
  {
   "cell_type": "markdown",
   "metadata": {},
   "source": [
    "## Results\n",
    "Since p-value (1) > significance level (0.05), we **fail to reject null hypothesis**. The results are not statistically significant. Neither anger nor fear was the reason for increase in voter turn out in 2018. Since we fail to reject null hypothesis hence practical significance effect does not have to be computed here.\n",
    "\n",
    "### Discussion\n",
    "Embedded assumptions in this question are: \n",
    "1. The fear and anger scores respondents gave represent their true feelings\n",
    "2. Those feelings had causal effect on their voting behavior (very strong assumption)"
   ]
  },
  {
   "cell_type": "markdown",
   "metadata": {},
   "source": [
    "## Question 5"
   ]
  },
  {
   "cell_type": "markdown",
   "metadata": {},
   "source": [
    "## Introduction\n",
    "**Climate change** is a politically charged issue, one of the most politically dividing in the context of US politics. On the party lines, Democrats and Republicans have very different opinions about this issue. As this is a global issue of significance, it is important to note the voter sentiment around it. In politics, nothing is permanent and if enough voter sentiment changes around the subject (one way or the other) we can expect party leadership to change the tune on this matter. \n",
    "\n",
    "In this regard, we expect the liberal-conservative bias to show up in the public opinion. We want to go one step further and see if we can come up with something more interesting. \n",
    "\n",
    "\n",
    "## Political question\n",
    "\n",
    "The key question we want to answer is that **between the Democrat and Republican voters, is there a difference between the proportion of voters with extreme opinions about climate change**? The intuition behind this question is that if a large proportion of voters are on a extreme on some policy position, there is less motivation for the political parties to differ from that extreme. Hence the difference in the extreme opinion holding voting population should give some idea about the rigidity of the political party of the matter in the immediate future.\n",
    "\n",
    "\n",
    "## Design and Operational Definitions\n",
    "\n",
    "\n",
    "### Opinion Tagging\n",
    "`Extreme` is a loaded word and we define it differently based on the cohort. There are five choices for the question `How important is the issue of climate change to you personally?`. We define the following encoding for Democrat and republican voters:\n",
    "\n",
    "|Answer Option|Democrat encoding|Republican Encoding|\n",
    "|--|--|--|\n",
    "|Not at all important (1)|0|1|\n",
    "|A little important (2)|0|0|\n",
    "|Moderately important (3)|0|0|\n",
    "|Very important (4)|0|0|\n",
    "|Extremely important (5)|1|0|\n",
    "\n",
    "Via this encoding, we are trying to understand that within each voting cohort (D and R), what is the proportion of extreme response. \n",
    "\n",
    "### Party affliation tagging\n",
    "\n",
    "We are using the combination of `pid1r` and `pid1d` columns for this. We will only consider the rows where each of these column values are either 1 or 2 (with 1 being democrat and 2 being republican). We will disregard all other values. \n",
    "\n",
    "**CAUTION**: In this way, we are disregarding every respondent who has declined to answer this question, independent and supports other party. The last are ok because we explicitely are interested in Democrat and Republican split but the first is concerning as this means we might be missing some undecided candidate. (Analysis show that we wil be disregarding only 2 people thsi was so that is ok)"
   ]
  },
  {
   "cell_type": "code",
   "execution_count": 33,
   "metadata": {},
   "outputs": [
    {
     "name": "stdout",
     "output_type": "stream",
     "text": [
      "[1] \"Rows of data with missing score entry\"\n"
     ]
    },
    {
     "data": {
      "text/html": [
       "<table>\n",
       "<thead><tr><th></th><th scope=col>pid1d</th><th scope=col>pid1r</th><th scope=col>warmyou</th></tr></thead>\n",
       "<tbody>\n",
       "\t<tr><th scope=row>497</th><td>-1</td><td>-7</td><td>5 </td></tr>\n",
       "\t<tr><th scope=row>596</th><td>-7</td><td>-1</td><td>1 </td></tr>\n",
       "</tbody>\n",
       "</table>\n"
      ],
      "text/latex": [
       "\\begin{tabular}{r|lll}\n",
       "  & pid1d & pid1r & warmyou\\\\\n",
       "\\hline\n",
       "\t497 & -1 & -7 & 5 \\\\\n",
       "\t596 & -7 & -1 & 1 \\\\\n",
       "\\end{tabular}\n"
      ],
      "text/markdown": [
       "\n",
       "| <!--/--> | pid1d | pid1r | warmyou |\n",
       "|---|---|---|---|\n",
       "| 497 | -1 | -7 | 5  |\n",
       "| 596 | -7 | -1 | 1  |\n",
       "\n"
      ],
      "text/plain": [
       "    pid1d pid1r warmyou\n",
       "497 -1    -7    5      \n",
       "596 -7    -1    1      "
      ]
     },
     "metadata": {},
     "output_type": "display_data"
    },
    {
     "name": "stdout",
     "output_type": "stream",
     "text": [
      "[1] \"Overall Summary of the filtered data\"\n"
     ]
    },
    {
     "data": {
      "text/plain": [
       "     pid1d             pid1r            warmyou     \n",
       " Min.   :-1.0000   Min.   :-1.0000   Min.   :1.000  \n",
       " 1st Qu.:-1.0000   1st Qu.:-1.0000   1st Qu.:2.000  \n",
       " Median :-1.0000   Median :-1.0000   Median :3.000  \n",
       " Mean   : 0.4155   Mean   : 0.4644   Mean   :3.142  \n",
       " 3rd Qu.: 2.0000   3rd Qu.: 2.0000   3rd Qu.:4.000  \n",
       " Max.   : 4.0000   Max.   : 4.0000   Max.   :5.000  "
      ]
     },
     "metadata": {},
     "output_type": "display_data"
    },
    {
     "data": {
      "text/html": [
       "'Number of records (total) : 1466'"
      ],
      "text/latex": [
       "'Number of records (total) : 1466'"
      ],
      "text/markdown": [
       "'Number of records (total) : 1466'"
      ],
      "text/plain": [
       "[1] \"Number of records (total) : 1466\""
      ]
     },
     "metadata": {},
     "output_type": "display_data"
    }
   ],
   "source": [
    "party <- A[,c('pid1d', 'pid1r','warmyou')]\n",
    "\n",
    "# Respondents that declined to answer the party affliation question\n",
    "print(\"Rows of data with missing score entry\")\n",
    "party[(party$pid1d == -7)|(party$pid1r == -7),]\n",
    "party <- party[!((party$pid1d == -7)|(party$pid1r == -7)),]\n",
    "\n",
    "# Summary of the filtered resulting dataset\n",
    "print(\"Overall Summary of the filtered data\")\n",
    "summary(party)\n",
    "\n",
    "# Tagging the part affliations\n",
    "party$party <- ifelse(party$pid1d == 2 | party$pid1r == 2, 'REPUBLICAN', ifelse(party$pid1d == 1 | party$pid1r == 1, \n",
    "                                                                                'DEMOCRAT', 'O'))\n",
    "\n",
    "# Removing all the data rows representing votes who are neither democrat nor republicans\n",
    "party <- party[party$party != 'O',]\n",
    "\n",
    "# Final dataset size\n",
    "paste(\"Number of records (total) :\", nrow(party))"
   ]
  },
  {
   "cell_type": "markdown",
   "metadata": {},
   "source": [
    "## Potential issues\n",
    "\n",
    "1. We are using self declaration by respondents on the face value. We also have the data available around 2016 voting and it might be more relevant to use that as the source of party affliation. Our core assumption is that the self reported affliations are ok\n",
    "\n",
    "2. Voter opinion should be an imporant factor in deciding the position a political party take but there can be multiple reasons for a delay between change in public opinion and change in party leadership position. This analysis doesn't account for that\n",
    "\n",
    "3. This analysis takes into cosideration that high proportion if voters of respective parties hold extreme opinions about climate change (whcih came from the data). If in coming time that changes (i.e. less percent of voters have extreme opinion), the basis of this study will have to change. \n",
    "\n",
    "4. We are **assuming** that party position on global warming is a factor which affects voting behavior. If it doesn't then the proportion of people with extreme opinions on thsi subject will not matter at all to party leadership. "
   ]
  },
  {
   "cell_type": "markdown",
   "metadata": {},
   "source": [
    "## Exploratory analysis\n",
    "\n",
    "As per our discussion above, both democrat and republicans have different connotations for extreme opinions. Following the schema discussed above, we will transfrom the `warmyou` variable into a binary vector. There are total 1466 rows of data in our consideration set (609-Republican| 857-Democrat). Overall, the data quality after appropriate tagging is good and no Nulls are present in the data. We have already extracted out the respondents that didn't provide information about their party affliation. The data ranges for all three variables is as expected."
   ]
  },
  {
   "cell_type": "code",
   "execution_count": 34,
   "metadata": {},
   "outputs": [],
   "source": [
    "# tagging the extreme results appropriately in line with the party lines\n",
    "\n",
    "party$extreme_opinion <- ifelse((party$party == 'REPUBLICAN')&(party$warmyou==1), \n",
    "                                1, ifelse((party$party == 'DEMOCRAT')&(party$warmyou==5), 1, 0))"
   ]
  },
  {
   "cell_type": "markdown",
   "metadata": {},
   "source": [
    "## Visualization"
   ]
  },
  {
   "cell_type": "code",
   "execution_count": 35,
   "metadata": {},
   "outputs": [
    {
     "name": "stdout",
     "output_type": "stream",
     "text": [
      "[1] \"The distribution across classes\"\n"
     ]
    },
    {
     "data": {
      "text/plain": [
       "            \n",
       "               0   1\n",
       "  DEMOCRAT   518 339\n",
       "  REPUBLICAN 332 277"
      ]
     },
     "metadata": {},
     "output_type": "display_data"
    },
    {
     "data": {
      "image/png": "[encoded data removed]",
      "text/plain": [
       "Plot with title \"Distribution of extreme vs. non-extreme opinion voters\""
      ]
     },
     "metadata": {},
     "output_type": "display_data"
    }
   ],
   "source": [
    "print('The distribution across classes')\n",
    "table(party$party, party$extreme_opinion)\n",
    "\n",
    "plot(table(party$party, party$extreme_opinion), main = 'Distribution of extreme vs. non-extreme opinion voters')"
   ]
  },
  {
   "cell_type": "markdown",
   "metadata": {},
   "source": [
    "## Hypothesis - Two sided\n",
    "\n",
    "$H_0$: Proportion of voters with extreme responses between democrat and republican voters is the same\n",
    "\n",
    "$H_A$: Proportion of voters with extreme responses between democrat and republican voters is NOT the same\n",
    "\n",
    "## Significance level \n",
    "\n",
    "We want to perfrom the test at 95% significance level (i.e. Expected FPR of 5%) \n",
    "\n",
    "## Appropriate test selection and conditions\n",
    "\n",
    "**2-proportion z-test** seems to be appropriate for this case. The key conditions for this test are:\n",
    "\n",
    "1. We have a simple random sample - This condition is not met exactly but for all the analysis before this section we are assuming this to be true. Hence we can assume this condition to be met here as well\n",
    "\n",
    "2. Independent sample - Sample should be independent. As mentioned in previous analysis, this might be a strong assumption but we are anyways considering it to be true\n",
    "\n",
    "3. Sample size restrictions - Each sample has > 10 respondents and population is atleast 20 times bigger than the sample\n",
    "\n",
    "## Conduction of the test"
   ]
  },
  {
   "cell_type": "code",
   "execution_count": 36,
   "metadata": {},
   "outputs": [
    {
     "data": {
      "text/plain": [
       "\n",
       "\t2-sample test for equality of proportions without continuity\n",
       "\tcorrection\n",
       "\n",
       "data:  c(sum(party[(party$party == \"DEMOCRAT\") & (party$extreme_opinion ==  out of c(nrow(party[party$party == \"DEMOCRAT\", ]), nrow(party[party$party ==     1), \"extreme_opinion\"]), sum(party[(party$party == \"REPUBLICAN\") &  out of     \"REPUBLICAN\", ]))    (party$extreme_opinion == 1), \"extreme_opinion\"])) out of c(nrow(party[party$party == \"DEMOCRAT\", ]), nrow(party[party$party == \n",
       "X-squared = 5.1348, df = 1, p-value = 0.02345\n",
       "alternative hypothesis: two.sided\n",
       "95 percent confidence interval:\n",
       " -0.11061828 -0.00793788\n",
       "sample estimates:\n",
       "   prop 1    prop 2 \n",
       "0.3955659 0.4548440 \n"
      ]
     },
     "metadata": {},
     "output_type": "display_data"
    }
   ],
   "source": [
    "prop.test(x = c(sum(party[(party$party == 'DEMOCRAT')&(party$extreme_opinion==1), 'extreme_opinion']), \n",
    "                sum(party[(party$party == 'REPUBLICAN')&(party$extreme_opinion==1), 'extreme_opinion'])),\n",
    "          n=c(nrow(party[party$party == 'DEMOCRAT', ]), nrow(party[party$party == 'REPUBLICAN', ])),\n",
    "          conf.level = 0.95,alternative = 'two.sided', correct=F)"
   ]
  },
  {
   "cell_type": "markdown",
   "metadata": {},
   "source": [
    "We tested the two sided hypothesis that the proportion of extreme opinion voters in Demotratic and Republican party are same.  Against the alternate hypothesis that they are different. From the 2-sample z-test we see that \n",
    "\n",
    "1. The p-value is 0.02345\n",
    "2. 95% confidence interval for the difference in proportions is [-0.1106, -0.0079] (which doesn't contains 0)\n",
    "\n",
    "At 95% confidence level, we have sufficient evidence coming from the data to **reject the Null Hypothesis**. \n",
    "\n",
    "\n",
    "## One sided Hypothesis test\n",
    "\n",
    "We can now test the hypothesis that among Republican voters, prevelance of extreme opinion is higher than among Democrat voters. \n",
    "\n",
    "## Hypothesis - One sided\n",
    "\n",
    "$H_0$: Proportion of voters with extreme responses between democrat and republican voters is the same\n",
    "\n",
    "$H_A$: Proportion of voters with extreme responses among democrat voters is less than republican voters\n"
   ]
  },
  {
   "cell_type": "code",
   "execution_count": 37,
   "metadata": {},
   "outputs": [
    {
     "data": {
      "text/plain": [
       "\n",
       "\t2-sample test for equality of proportions without continuity\n",
       "\tcorrection\n",
       "\n",
       "data:  c(sum(party[(party$party == \"DEMOCRAT\") & (party$extreme_opinion ==  out of c(nrow(party[party$party == \"DEMOCRAT\", ]), nrow(party[party$party ==     1), \"extreme_opinion\"]), sum(party[(party$party == \"REPUBLICAN\") &  out of     \"REPUBLICAN\", ]))    (party$extreme_opinion == 1), \"extreme_opinion\"])) out of c(nrow(party[party$party == \"DEMOCRAT\", ]), nrow(party[party$party == \n",
       "X-squared = 5.1348, df = 1, p-value = 0.01173\n",
       "alternative hypothesis: less\n",
       "95 percent confidence interval:\n",
       " -1.00000000 -0.01619203\n",
       "sample estimates:\n",
       "   prop 1    prop 2 \n",
       "0.3955659 0.4548440 \n"
      ]
     },
     "metadata": {},
     "output_type": "display_data"
    }
   ],
   "source": [
    "prop.test(x = c(sum(party[(party$party == 'DEMOCRAT')&(party$extreme_opinion==1), 'extreme_opinion']), \n",
    "                sum(party[(party$party == 'REPUBLICAN')&(party$extreme_opinion==1), 'extreme_opinion'])),\n",
    "          n=c(nrow(party[party$party == 'DEMOCRAT', ]), nrow(party[party$party == 'REPUBLICAN', ])),\n",
    "          conf.level = 0.95,alternative = 'less', correct=F)"
   ]
  },
  {
   "cell_type": "markdown",
   "metadata": {},
   "source": [
    "## Results\n",
    "At 95% confidence level, we have sufficient evidence to reject the null hypothesis in favor of one sided alternative hypothesis. \n",
    "\n",
    "## Effect size\n",
    "\n",
    "The difference of proportion (which stands at -0.0592) in the sample between democrat voters with extreme opinions and republicans can be a good proxy for the effect size. Converting this to percentages, this says that the affinity to extreme with respect to climate change is ~6% higher among republican voters than democrat voters. \n",
    "\n",
    "If we want to use a dimentionless measure of effect size, we can use Cohen's H. More details about this can be found from https://en.wikipedia.org/wiki/Cohen%27s_h. The effect size table showcases:\n",
    "\n",
    "|Cohen's H|Interpretation|\n",
    "|--|--|\n",
    "|h = 0.20|Small effect size|\n",
    "|h = 0.50|Medium effect size|\n",
    "|h = 0.80|Large effect size|\n",
    "\n",
    "From the below analysis, we see that **the effect size if small**. "
   ]
  },
  {
   "cell_type": "code",
   "execution_count": 38,
   "metadata": {},
   "outputs": [
    {
     "data": {
      "text/html": [
       "<dl class=dl-horizontal>\n",
       "\t<dt>h</dt>\n",
       "\t\t<dd>0.119982269428239</dd>\n",
       "\t<dt>h_low</dt>\n",
       "\t\t<dd>0.0161060777970168</dd>\n",
       "\t<dt>h_upp</dt>\n",
       "\t\t<dd>0.223858461059461</dd>\n",
       "</dl>\n"
      ],
      "text/latex": [
       "\\begin{description*}\n",
       "\\item[h] 0.119982269428239\n",
       "\\item[h\\textbackslash{}\\_low] 0.0161060777970168\n",
       "\\item[h\\textbackslash{}\\_upp] 0.223858461059461\n",
       "\\end{description*}\n"
      ],
      "text/markdown": [
       "h\n",
       ":   0.119982269428239h_low\n",
       ":   0.0161060777970168h_upp\n",
       ":   0.223858461059461\n",
       "\n"
      ],
      "text/plain": [
       "         h      h_low      h_upp \n",
       "0.11998227 0.01610608 0.22385846 "
      ]
     },
     "metadata": {},
     "output_type": "display_data"
    }
   ],
   "source": [
    "cohens_h = function( prop_1, prop_2, n1, n2, ci = 0.95 ){\n",
    "    x1 = asin(sign(prop_1) * sqrt(abs(prop_1)))\n",
    "    x2 = asin(sign(prop_2) * sqrt(abs(prop_2)))\n",
    "    es = x1 - x2\n",
    "    se = sqrt(0.25 * (1 / n1 + 1 / n2 ))\n",
    "    ci_diff = qnorm(1 - (1-ci) / 2) * se\n",
    "    return( c( h = es*2, h_low = (es-ci_diff)*2, h_upp = (es+ci_diff)*2 ) )\n",
    "}\n",
    "\n",
    "cohens_h(prop_1=0.4548440, prop_2=0.3955659, n1=332+277, n2=518+339, ci = 0.95)"
   ]
  },
  {
   "cell_type": "markdown",
   "metadata": {},
   "source": [
    "## Conclusion\n",
    "\n",
    "We tried to understand the opinions of US voters vis-a-vis party opinions along the topic of climate change. What we see is that a huge proportion of voters on both sides cling to the extremes (democrats to the importance of this topic and Republicans to the unimportance). Also there is a **statistically significant difference** between the extreme opinion voters across the party lines although the effect size is small. \n",
    "\n",
    "There are significantly more extreme opinion holding voters on republican side than democrat (~ 6%). In the long run, this analysis give rise to the idea that atleast in the short run, there is less chance for Republican party line to change its narrative around Climate change (in absence of public support).\n",
    "\n",
    "More work need to be done to understand this further in terms of respondant age and other demographic factors."
   ]
  }
 ],
 "metadata": {
  "kernelspec": {
   "display_name": "R",
   "language": "R",
   "name": "ir"
  },
  "language_info": {
   "codemirror_mode": "r",
   "file_extension": ".r",
   "mimetype": "text/x-r-source",
   "name": "R",
   "pygments_lexer": "r",
   "version": "3.6.1"
  }
 },
 "nbformat": 4,
 "nbformat_minor": 4
}
